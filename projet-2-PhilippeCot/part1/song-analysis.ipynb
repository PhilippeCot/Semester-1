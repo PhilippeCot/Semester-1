{
 "cells": [
  {
   "cell_type": "markdown",
   "metadata": {},
   "source": [
    "## Partie 1 : Traitement de données\n",
    "Notre objectif est de manipuler et de traiter le jeu de données (contenu dans le fichier `songs.csv`) des chansons les plus écoutées sur Spotify en 2024. Nos traitement serviront ensuite à entraîner un modèle simple de régression linéaire pour la prédiction du nombre total d'écoutes d'une chanson sur Spotify.\n",
    "\n",
    "### Somaire\n",
    "1. [Chargement du jeu de données](#1-chargement-du-jeu-de-données)\n",
    "2. [Exploration des données](#2-exploration-des-données)\n",
    "3. [Nettoyage des données](#3-nettoyage-des-données)\n",
    "4. [Extraction de données](#4-extraction-de-données)\n",
    "5. [Conversion de données](#5-conversion-des-données)\n",
    "6. [Visualisation de données](#6-visualisation-de-données)\n",
    "7. [Matrice de corrélation](#7-matrice-de-corrélation)\n",
    "8. [Entraînement d'un modèle de régression](#8-entraînement-dun-modèle-de-régression-linéaire)"
   ]
  },
  {
   "cell_type": "markdown",
   "metadata": {},
   "source": [
    "#### Installation et importation des librairies\n",
    "Avant de commencer, nous devons lancer la cellule ci-bas afin de s'assurer que nous avons accès aux  librairies nécessaires."
   ]
  },
  {
   "cell_type": "code",
   "execution_count": 42,
   "metadata": {},
   "outputs": [
    {
     "name": "stdout",
     "output_type": "stream",
     "text": [
      "Requirement already satisfied: pandas in c:\\users\\phili\\appdata\\local\\programs\\python\\python312\\lib\\site-packages (2.2.3)\n",
      "Requirement already satisfied: matplotlib in c:\\users\\phili\\appdata\\local\\programs\\python\\python312\\lib\\site-packages (3.9.2)\n",
      "Requirement already satisfied: plotly in c:\\users\\phili\\appdata\\local\\programs\\python\\python312\\lib\\site-packages (5.24.1)\n",
      "Requirement already satisfied: seaborn in c:\\users\\phili\\appdata\\local\\programs\\python\\python312\\lib\\site-packages (0.13.2)\n",
      "Requirement already satisfied: scikit-learn in c:\\users\\phili\\appdata\\local\\programs\\python\\python312\\lib\\site-packages (1.5.2)\n",
      "Requirement already satisfied: numpy>=1.26.0 in c:\\users\\phili\\appdata\\local\\programs\\python\\python312\\lib\\site-packages (from pandas) (2.1.2)\n",
      "Requirement already satisfied: python-dateutil>=2.8.2 in c:\\users\\phili\\appdata\\roaming\\python\\python312\\site-packages (from pandas) (2.9.0.post0)\n",
      "Requirement already satisfied: pytz>=2020.1 in c:\\users\\phili\\appdata\\local\\programs\\python\\python312\\lib\\site-packages (from pandas) (2024.2)\n",
      "Requirement already satisfied: tzdata>=2022.7 in c:\\users\\phili\\appdata\\local\\programs\\python\\python312\\lib\\site-packages (from pandas) (2024.2)\n",
      "Requirement already satisfied: contourpy>=1.0.1 in c:\\users\\phili\\appdata\\local\\programs\\python\\python312\\lib\\site-packages (from matplotlib) (1.3.0)\n",
      "Requirement already satisfied: cycler>=0.10 in c:\\users\\phili\\appdata\\local\\programs\\python\\python312\\lib\\site-packages (from matplotlib) (0.12.1)\n",
      "Requirement already satisfied: fonttools>=4.22.0 in c:\\users\\phili\\appdata\\local\\programs\\python\\python312\\lib\\site-packages (from matplotlib) (4.54.1)\n",
      "Requirement already satisfied: kiwisolver>=1.3.1 in c:\\users\\phili\\appdata\\local\\programs\\python\\python312\\lib\\site-packages (from matplotlib) (1.4.7)\n",
      "Requirement already satisfied: packaging>=20.0 in c:\\users\\phili\\appdata\\roaming\\python\\python312\\site-packages (from matplotlib) (24.1)\n",
      "Requirement already satisfied: pillow>=8 in c:\\users\\phili\\appdata\\local\\programs\\python\\python312\\lib\\site-packages (from matplotlib) (10.4.0)\n",
      "Requirement already satisfied: pyparsing>=2.3.1 in c:\\users\\phili\\appdata\\local\\programs\\python\\python312\\lib\\site-packages (from matplotlib) (3.1.4)\n",
      "Requirement already satisfied: tenacity>=6.2.0 in c:\\users\\phili\\appdata\\local\\programs\\python\\python312\\lib\\site-packages (from plotly) (9.0.0)\n",
      "Requirement already satisfied: scipy>=1.6.0 in c:\\users\\phili\\appdata\\local\\programs\\python\\python312\\lib\\site-packages (from scikit-learn) (1.14.1)\n",
      "Requirement already satisfied: joblib>=1.2.0 in c:\\users\\phili\\appdata\\local\\programs\\python\\python312\\lib\\site-packages (from scikit-learn) (1.4.2)\n",
      "Requirement already satisfied: threadpoolctl>=3.1.0 in c:\\users\\phili\\appdata\\local\\programs\\python\\python312\\lib\\site-packages (from scikit-learn) (3.5.0)\n",
      "Requirement already satisfied: six>=1.5 in c:\\users\\phili\\appdata\\roaming\\python\\python312\\site-packages (from python-dateutil>=2.8.2->pandas) (1.16.0)\n",
      "Note: you may need to restart the kernel to use updated packages.\n"
     ]
    }
   ],
   "source": [
    "%pip install pandas matplotlib plotly seaborn scikit-learn\n",
    "\n",
    "import math\n",
    "import numpy as np\n",
    "import pandas as pd\n",
    "import matplotlib.pyplot as plt\n",
    "import plotly.express as px\n",
    "import seaborn as sns\n",
    "from sklearn import linear_model"
   ]
  },
  {
   "cell_type": "markdown",
   "metadata": {},
   "source": [
    "#### 1. Chargement du jeu de données\n",
    "Chargez le jeu de données dans un [`DataFrame Pandas`](https://pandas.pydata.org/docs/reference/api/pandas.DataFrame.html#pandas.DataFrame), depuis le fichier CSV `songs.csv`.\n",
    "Utilisez la méthode `read_csv()`."
   ]
  },
  {
   "cell_type": "code",
   "execution_count": 43,
   "metadata": {},
   "outputs": [],
   "source": [
    "# TODO: Charger le jeu de données dans un objet DataFrame.\n",
    "dataframe = pd.read_csv(\"songs.csv\")\n"
   ]
  },
  {
   "cell_type": "code",
   "execution_count": 44,
   "metadata": {},
   "outputs": [
    {
     "data": {
      "text/html": [
       "<div>\n",
       "<style scoped>\n",
       "    .dataframe tbody tr th:only-of-type {\n",
       "        vertical-align: middle;\n",
       "    }\n",
       "\n",
       "    .dataframe tbody tr th {\n",
       "        vertical-align: top;\n",
       "    }\n",
       "\n",
       "    .dataframe thead th {\n",
       "        text-align: right;\n",
       "    }\n",
       "</style>\n",
       "<table border=\"1\" class=\"dataframe\">\n",
       "  <thead>\n",
       "    <tr style=\"text-align: right;\">\n",
       "      <th></th>\n",
       "      <th>Track</th>\n",
       "      <th>Album Name</th>\n",
       "      <th>Artist</th>\n",
       "      <th>Release Date</th>\n",
       "      <th>ISRC</th>\n",
       "      <th>All Time Rank</th>\n",
       "      <th>Track Score</th>\n",
       "      <th>Spotify Streams</th>\n",
       "      <th>Spotify Playlist Count</th>\n",
       "      <th>Spotify Playlist Reach</th>\n",
       "      <th>...</th>\n",
       "      <th>SiriusXM Spins</th>\n",
       "      <th>Deezer Playlist Count</th>\n",
       "      <th>Deezer Playlist Reach</th>\n",
       "      <th>Amazon Playlist Count</th>\n",
       "      <th>Pandora Streams</th>\n",
       "      <th>Pandora Track Stations</th>\n",
       "      <th>Soundcloud Streams</th>\n",
       "      <th>Shazam Counts</th>\n",
       "      <th>TIDAL Popularity</th>\n",
       "      <th>Explicit Track</th>\n",
       "    </tr>\n",
       "  </thead>\n",
       "  <tbody>\n",
       "    <tr>\n",
       "      <th>0</th>\n",
       "      <td>MILLION DOLLAR BABY</td>\n",
       "      <td>Million Dollar Baby - Single</td>\n",
       "      <td>Tommy Richman</td>\n",
       "      <td>4/26/2024</td>\n",
       "      <td>QM24S2402528</td>\n",
       "      <td>1</td>\n",
       "      <td>725.4</td>\n",
       "      <td>390,470,936</td>\n",
       "      <td>30,716</td>\n",
       "      <td>196,631,588</td>\n",
       "      <td>...</td>\n",
       "      <td>684</td>\n",
       "      <td>62.0</td>\n",
       "      <td>17,598,718</td>\n",
       "      <td>114.0</td>\n",
       "      <td>18,004,655</td>\n",
       "      <td>22,931</td>\n",
       "      <td>4,818,457</td>\n",
       "      <td>2,669,262</td>\n",
       "      <td>NaN</td>\n",
       "      <td>0</td>\n",
       "    </tr>\n",
       "    <tr>\n",
       "      <th>1</th>\n",
       "      <td>Not Like Us</td>\n",
       "      <td>Not Like Us</td>\n",
       "      <td>Kendrick Lamar</td>\n",
       "      <td>5/4/2024</td>\n",
       "      <td>USUG12400910</td>\n",
       "      <td>2</td>\n",
       "      <td>545.9</td>\n",
       "      <td>323,703,884</td>\n",
       "      <td>28,113</td>\n",
       "      <td>174,597,137</td>\n",
       "      <td>...</td>\n",
       "      <td>3</td>\n",
       "      <td>67.0</td>\n",
       "      <td>10,422,430</td>\n",
       "      <td>111.0</td>\n",
       "      <td>7,780,028</td>\n",
       "      <td>28,444</td>\n",
       "      <td>6,623,075</td>\n",
       "      <td>1,118,279</td>\n",
       "      <td>NaN</td>\n",
       "      <td>1</td>\n",
       "    </tr>\n",
       "    <tr>\n",
       "      <th>2</th>\n",
       "      <td>i like the way you kiss me</td>\n",
       "      <td>I like the way you kiss me</td>\n",
       "      <td>Artemas</td>\n",
       "      <td>3/19/2024</td>\n",
       "      <td>QZJ842400387</td>\n",
       "      <td>3</td>\n",
       "      <td>538.4</td>\n",
       "      <td>601,309,283</td>\n",
       "      <td>54,331</td>\n",
       "      <td>211,607,669</td>\n",
       "      <td>...</td>\n",
       "      <td>536</td>\n",
       "      <td>136.0</td>\n",
       "      <td>36,321,847</td>\n",
       "      <td>172.0</td>\n",
       "      <td>5,022,621</td>\n",
       "      <td>5,639</td>\n",
       "      <td>7,208,651</td>\n",
       "      <td>5,285,340</td>\n",
       "      <td>NaN</td>\n",
       "      <td>0</td>\n",
       "    </tr>\n",
       "    <tr>\n",
       "      <th>3</th>\n",
       "      <td>Flowers</td>\n",
       "      <td>Flowers - Single</td>\n",
       "      <td>Miley Cyrus</td>\n",
       "      <td>1/12/2023</td>\n",
       "      <td>USSM12209777</td>\n",
       "      <td>4</td>\n",
       "      <td>444.9</td>\n",
       "      <td>2,031,280,633</td>\n",
       "      <td>269,802</td>\n",
       "      <td>136,569,078</td>\n",
       "      <td>...</td>\n",
       "      <td>2,182</td>\n",
       "      <td>264.0</td>\n",
       "      <td>24,684,248</td>\n",
       "      <td>210.0</td>\n",
       "      <td>190,260,277</td>\n",
       "      <td>203,384</td>\n",
       "      <td>NaN</td>\n",
       "      <td>11,822,942</td>\n",
       "      <td>NaN</td>\n",
       "      <td>0</td>\n",
       "    </tr>\n",
       "    <tr>\n",
       "      <th>4</th>\n",
       "      <td>Houdini</td>\n",
       "      <td>Houdini</td>\n",
       "      <td>Eminem</td>\n",
       "      <td>5/31/2024</td>\n",
       "      <td>USUG12403398</td>\n",
       "      <td>5</td>\n",
       "      <td>423.3</td>\n",
       "      <td>107,034,922</td>\n",
       "      <td>7,223</td>\n",
       "      <td>151,469,874</td>\n",
       "      <td>...</td>\n",
       "      <td>1</td>\n",
       "      <td>82.0</td>\n",
       "      <td>17,660,624</td>\n",
       "      <td>105.0</td>\n",
       "      <td>4,493,884</td>\n",
       "      <td>7,006</td>\n",
       "      <td>207,179</td>\n",
       "      <td>457,017</td>\n",
       "      <td>NaN</td>\n",
       "      <td>1</td>\n",
       "    </tr>\n",
       "  </tbody>\n",
       "</table>\n",
       "<p>5 rows × 29 columns</p>\n",
       "</div>"
      ],
      "text/plain": [
       "                        Track                    Album Name          Artist  \\\n",
       "0         MILLION DOLLAR BABY  Million Dollar Baby - Single   Tommy Richman   \n",
       "1                 Not Like Us                   Not Like Us  Kendrick Lamar   \n",
       "2  i like the way you kiss me    I like the way you kiss me         Artemas   \n",
       "3                     Flowers              Flowers - Single     Miley Cyrus   \n",
       "4                     Houdini                       Houdini          Eminem   \n",
       "\n",
       "  Release Date          ISRC All Time Rank  Track Score Spotify Streams  \\\n",
       "0    4/26/2024  QM24S2402528             1        725.4     390,470,936   \n",
       "1     5/4/2024  USUG12400910             2        545.9     323,703,884   \n",
       "2    3/19/2024  QZJ842400387             3        538.4     601,309,283   \n",
       "3    1/12/2023  USSM12209777             4        444.9   2,031,280,633   \n",
       "4    5/31/2024  USUG12403398             5        423.3     107,034,922   \n",
       "\n",
       "  Spotify Playlist Count Spotify Playlist Reach  ...  SiriusXM Spins  \\\n",
       "0                 30,716            196,631,588  ...             684   \n",
       "1                 28,113            174,597,137  ...               3   \n",
       "2                 54,331            211,607,669  ...             536   \n",
       "3                269,802            136,569,078  ...           2,182   \n",
       "4                  7,223            151,469,874  ...               1   \n",
       "\n",
       "  Deezer Playlist Count Deezer Playlist Reach Amazon Playlist Count  \\\n",
       "0                  62.0            17,598,718                 114.0   \n",
       "1                  67.0            10,422,430                 111.0   \n",
       "2                 136.0            36,321,847                 172.0   \n",
       "3                 264.0            24,684,248                 210.0   \n",
       "4                  82.0            17,660,624                 105.0   \n",
       "\n",
       "  Pandora Streams Pandora Track Stations Soundcloud Streams  Shazam Counts  \\\n",
       "0      18,004,655                 22,931          4,818,457      2,669,262   \n",
       "1       7,780,028                 28,444          6,623,075      1,118,279   \n",
       "2       5,022,621                  5,639          7,208,651      5,285,340   \n",
       "3     190,260,277                203,384                NaN     11,822,942   \n",
       "4       4,493,884                  7,006            207,179        457,017   \n",
       "\n",
       "  TIDAL Popularity Explicit Track  \n",
       "0              NaN              0  \n",
       "1              NaN              1  \n",
       "2              NaN              0  \n",
       "3              NaN              0  \n",
       "4              NaN              1  \n",
       "\n",
       "[5 rows x 29 columns]"
      ]
     },
     "execution_count": 44,
     "metadata": {},
     "output_type": "execute_result"
    }
   ],
   "source": [
    "# TODO: Afficher les premières lignes du DataFrame pour comprendre la structure des données.\n",
    "dataframe.head()"
   ]
  },
  {
   "cell_type": "markdown",
   "metadata": {},
   "source": [
    "#### 2. Exploration des données\n",
    "Affichez le nombre d'éléments (lignes) du jeu de données. Et, affichez les types de données de chaque colonne pour vérifier si nous avons besoin d'effectuer d'éventuelles nettoyage ou conversion."
   ]
  },
  {
   "cell_type": "code",
   "execution_count": 45,
   "metadata": {},
   "outputs": [
    {
     "name": "stdout",
     "output_type": "stream",
     "text": [
      "Le nombre d'éléments (lignes) du jeu de données est de: 4600 lignes\n",
      "\n",
      "Types de données de chaque colonne:\n",
      "Track                          object\n",
      "Album Name                     object\n",
      "Artist                         object\n",
      "Release Date                   object\n",
      "ISRC                           object\n",
      "All Time Rank                  object\n",
      "Track Score                   float64\n",
      "Spotify Streams                object\n",
      "Spotify Playlist Count         object\n",
      "Spotify Playlist Reach         object\n",
      "Spotify Popularity            float64\n",
      "YouTube Views                  object\n",
      "YouTube Likes                  object\n",
      "TikTok Posts                   object\n",
      "TikTok Likes                   object\n",
      "TikTok Views                   object\n",
      "YouTube Playlist Reach         object\n",
      "Apple Music Playlist Count    float64\n",
      "AirPlay Spins                  object\n",
      "SiriusXM Spins                 object\n",
      "Deezer Playlist Count         float64\n",
      "Deezer Playlist Reach          object\n",
      "Amazon Playlist Count         float64\n",
      "Pandora Streams                object\n",
      "Pandora Track Stations         object\n",
      "Soundcloud Streams             object\n",
      "Shazam Counts                  object\n",
      "TIDAL Popularity              float64\n",
      "Explicit Track                  int64\n"
     ]
    }
   ],
   "source": [
    "# TODO: Afficher le nombre d'éléments.\n",
    "size_rows =  str(len(dataframe))\n",
    "print(\"Le nombre d'éléments (lignes) du jeu de données est de: \"+ size_rows +' lignes')\n",
    "# TODO: Afficher les types de données de chaque colonne.\n",
    "type_column = dataframe.dtypes.to_string()\n",
    "print('''\\nTypes de données de chaque colonne:\n",
    "''' + type_column)\n"
   ]
  },
  {
   "cell_type": "markdown",
   "metadata": {},
   "source": [
    "#### 3. Nettoyage des données\n",
    "Pour procéder au nettoyage de nos données, nous allons :\n",
    "- Supprimer les colonnes inutiles ;\n",
    "- Analyser les valeurs manquantes ;\n",
    "- Gérer les valeurs manquantes.\n",
    "\n",
    "Les méthodes utiles pour cette section sont : `drop()`, `isna()`, `dropna()`."
   ]
  },
  {
   "cell_type": "code",
   "execution_count": 46,
   "metadata": {},
   "outputs": [],
   "source": [
    "# TODO: Utiliser drop() pour supprimer les colonnes \"ISRC\" et \"TIDAL Popularity\".\n",
    "def supprimer_colonne(dataframe,  nom_col):\n",
    "    deleted = dataframe.drop(columns=nom_col)\n",
    "    return deleted\n",
    "dataframe = supprimer_colonne(dataframe, \"ISRC\")\n",
    "dataframe = supprimer_colonne(dataframe, \"TIDAL Popularity\")\n"
   ]
  },
  {
   "cell_type": "code",
   "execution_count": 47,
   "metadata": {},
   "outputs": [
    {
     "name": "stdout",
     "output_type": "stream",
     "text": [
      "La somme des valeurs manquantes est: \n",
      "Track                            0\n",
      "Album Name                       0\n",
      "Artist                           5\n",
      "Release Date                     0\n",
      "All Time Rank                    0\n",
      "Track Score                      0\n",
      "Spotify Streams                113\n",
      "Spotify Playlist Count          70\n",
      "Spotify Playlist Reach          72\n",
      "Spotify Popularity             804\n",
      "YouTube Views                  308\n",
      "YouTube Likes                  315\n",
      "TikTok Posts                  1173\n",
      "TikTok Likes                   980\n",
      "TikTok Views                   981\n",
      "YouTube Playlist Reach        1009\n",
      "Apple Music Playlist Count     561\n",
      "AirPlay Spins                  498\n",
      "SiriusXM Spins                2123\n",
      "Deezer Playlist Count          921\n",
      "Deezer Playlist Reach          928\n",
      "Amazon Playlist Count         1055\n",
      "Pandora Streams               1106\n",
      "Pandora Track Stations        1268\n",
      "Soundcloud Streams            3333\n",
      "Shazam Counts                  577\n",
      "Explicit Track                   0\n"
     ]
    }
   ],
   "source": [
    "# TODO: Pour chaque colonne, afficher la somme des valeurs manquantes (utiliser isna()).\n",
    "sum_missing_values = dataframe.isna().sum().to_string()\n",
    "print('''La somme des valeurs manquantes est: \n",
    "''' + sum_missing_values)\n"
   ]
  },
  {
   "cell_type": "code",
   "execution_count": 48,
   "metadata": {},
   "outputs": [
    {
     "name": "stdout",
     "output_type": "stream",
     "text": [
      "La nouvelle dimension du DataFrame est de: (565, 27)\n"
     ]
    }
   ],
   "source": [
    "# TODO: Supprimer les lignes contenant des valeurs manquantes (utiliser dropna()).\n",
    "dataframe = dataframe.dropna()\n",
    "# TODO: Afficher la nouvelle dimension du DataFrame.\n",
    "df_dimension = dataframe.shape\n",
    "print('La nouvelle dimension du DataFrame est de: ' + str(df_dimension))"
   ]
  },
  {
   "cell_type": "markdown",
   "metadata": {},
   "source": [
    "#### 4. Extraction de données\n",
    "Nous souhaitons extraire l'année de sortie à partir de la date de sortie, et créer une nouvelle colonne \"Release Year\" basée sur cette donnée. Utilisez `to_datetime()` pour extraire l'année depuis la date et `apply()` pour appliquer l'extraction sur un ensemble de données."
   ]
  },
  {
   "cell_type": "code",
   "execution_count": 49,
   "metadata": {},
   "outputs": [],
   "source": [
    "# TODO: Créer une colonne \"Release Year\" contenant l'année de sortie pour chacune des chansons.\n",
    "dataframe['Release Year'] = dataframe['Release Date'].apply(lambda x: pd.to_datetime(x).year)"
   ]
  },
  {
   "cell_type": "markdown",
   "metadata": {},
   "source": [
    "#### 5. Conversion de données\n",
    "Lors de l'étape d'[exploration de données](#2-exploration-des-données), nous avons remarqué que certaines colonnes sont de type `object` alors qu'elles représentent des données numériques. Nous allons donc convertir ces colonnes en `float` (utilisez `apply()` pour appliquer la conversion sur un ensemble de données).\n",
    "\n",
    "Omettre de la conversion les colonnes : \"Track\", \"Album Name\", \"Artist\", \"Release Date\"."
   ]
  },
  {
   "cell_type": "code",
   "execution_count": 50,
   "metadata": {},
   "outputs": [
    {
     "name": "stdout",
     "output_type": "stream",
     "text": [
      "Les colonnes à convertir en float sont:  ['All Time Rank', 'Spotify Streams', 'Spotify Playlist Count', 'Spotify Playlist Reach', 'YouTube Views', 'YouTube Likes', 'TikTok Posts', 'TikTok Likes', 'TikTok Views', 'YouTube Playlist Reach', 'AirPlay Spins', 'SiriusXM Spins', 'Deezer Playlist Reach', 'Pandora Streams', 'Pandora Track Stations', 'Soundcloud Streams', 'Shazam Counts']\n"
     ]
    }
   ],
   "source": [
    "# TODO: Afficher les colonnes à convertir en 'float'. \n",
    "to_exclude = [\"Track\", \"Album Name\", \"Artist\", \"Release Date\"]\n",
    "to_convert = [\n",
    "    col for col in dataframe.columns \n",
    "    if col not in to_exclude and dataframe[col].dtype == 'object'\n",
    "]\n",
    "for col in to_convert:\n",
    "    dataframe[col] = dataframe[col].apply(lambda x: float(str(x).replace(',', '').strip()) if pd.notnull(x) else None)\n",
    "print('Les colonnes à convertir en float sont: ', to_convert)\n",
    "# TODO: Convertir les données des colonnes en 'float'.\n",
    "dataframe[to_convert] = dataframe[to_convert].apply(pd.to_numeric, errors='coerce')\n"
   ]
  },
  {
   "cell_type": "code",
   "execution_count": 51,
   "metadata": {},
   "outputs": [
    {
     "name": "stdout",
     "output_type": "stream",
     "text": [
      "\n",
      "Types de données de chaque colonne:\n",
      "Track                          object\n",
      "Album Name                     object\n",
      "Artist                         object\n",
      "Release Date                   object\n",
      "All Time Rank                 float64\n",
      "Track Score                   float64\n",
      "Spotify Streams               float64\n",
      "Spotify Playlist Count        float64\n",
      "Spotify Playlist Reach        float64\n",
      "Spotify Popularity            float64\n",
      "YouTube Views                 float64\n",
      "YouTube Likes                 float64\n",
      "TikTok Posts                  float64\n",
      "TikTok Likes                  float64\n",
      "TikTok Views                  float64\n",
      "YouTube Playlist Reach        float64\n",
      "Apple Music Playlist Count    float64\n",
      "AirPlay Spins                 float64\n",
      "SiriusXM Spins                float64\n",
      "Deezer Playlist Count         float64\n",
      "Deezer Playlist Reach         float64\n",
      "Amazon Playlist Count         float64\n",
      "Pandora Streams               float64\n",
      "Pandora Track Stations        float64\n",
      "Soundcloud Streams            float64\n",
      "Shazam Counts                 float64\n",
      "Explicit Track                  int64\n",
      "Release Year                    int64\n"
     ]
    }
   ],
   "source": [
    "# TODO: Afficher les types de données de chaque colonne.\n",
    "new_column = dataframe.dtypes.to_string()\n",
    "print('''\\nTypes de données de chaque colonne:\n",
    "''' + new_column)"
   ]
  },
  {
   "cell_type": "markdown",
   "metadata": {},
   "source": [
    "#### 6. Visualisation de données\n",
    "Nous aimerions visualiser nos données via :\n",
    "- un graphique en secteur avec la proportion du nombre d'écoutes Spotify en 2024 par année de sortie ;\n",
    "- un histogramme avec la proportion de chanson à contenu explicite par année de sortie ;\n",
    "- un diagramme à barres avec le top 10 des chansons les plus écoutées sur Spotify en 2024.\n",
    "\n",
    "Pour cela, utilisez les méthodes `pie()`, `histogram()` et `bar()` de Plotly Express (accessible via l'objet `px`)."
   ]
  },
  {
   "cell_type": "code",
   "execution_count": 52,
   "metadata": {},
   "outputs": [
    {
     "name": "stdout",
     "output_type": "stream",
     "text": [
      "      Release Year  Spotify Streams\n",
      "0             2024     3.904709e+08\n",
      "1             2024     3.237039e+08\n",
      "2             2024     6.013093e+08\n",
      "5             2023     6.706654e+08\n",
      "9             2024     9.067657e+07\n",
      "...            ...              ...\n",
      "4522          1991     2.021910e+09\n",
      "4536          2011     4.642033e+08\n",
      "4557          2007     8.587342e+08\n",
      "4576          2015     3.156974e+08\n",
      "4590          2022     3.772425e+08\n",
      "\n",
      "[565 rows x 2 columns]\n"
     ]
    }
   ],
   "source": [
    "# TODO: Afficher un DataFrame contenant seulement les colonnes \"Release Year\", \"Spotify Streams\".\n",
    "year_streams = dataframe[['Release Year', 'Spotify Streams']]\n",
    "print(year_streams)\n"
   ]
  },
  {
   "cell_type": "code",
   "execution_count": 53,
   "metadata": {},
   "outputs": [
    {
     "data": {
      "application/vnd.plotly.v1+json": {
       "config": {
        "plotlyServerURL": "https://plot.ly"
       },
       "data": [
        {
         "domain": {
          "x": [
           0,
           1
          ],
          "y": [
           0,
           1
          ]
         },
         "hovertemplate": "Release Year=%{label}<br>Spotify Streams=%{value}<extra></extra>",
         "labels": [
          2024,
          2024,
          2024,
          2023,
          2024,
          2024,
          2023,
          2024,
          2024,
          2024,
          2024,
          2023,
          2023,
          2023,
          2023,
          2019,
          2024,
          2022,
          2023,
          2023,
          2023,
          2017,
          2019,
          2022,
          2024,
          2022,
          2022,
          2023,
          2019,
          2023,
          2023,
          2021,
          2023,
          2023,
          2023,
          2022,
          2023,
          2022,
          2023,
          2023,
          2024,
          2019,
          2023,
          2017,
          2022,
          2023,
          2022,
          2023,
          2023,
          2020,
          2023,
          2022,
          2018,
          2023,
          2020,
          2023,
          2023,
          2023,
          2022,
          2022,
          2024,
          2022,
          2022,
          2020,
          2018,
          2018,
          2022,
          2022,
          2023,
          2023,
          2024,
          2022,
          2016,
          2023,
          2022,
          2023,
          2022,
          2022,
          2021,
          2023,
          2018,
          2016,
          2015,
          2021,
          2022,
          2023,
          2022,
          2023,
          2019,
          2018,
          2023,
          2020,
          2023,
          2023,
          2019,
          2022,
          2016,
          2023,
          2020,
          2016,
          2023,
          2023,
          2023,
          2023,
          2020,
          2021,
          2022,
          2021,
          2022,
          2022,
          2023,
          2021,
          2022,
          2023,
          2018,
          2022,
          2018,
          2020,
          2021,
          2016,
          2019,
          2018,
          2020,
          2019,
          2023,
          2015,
          2024,
          2020,
          2019,
          2022,
          2020,
          2023,
          2018,
          2023,
          2019,
          2024,
          2019,
          2014,
          2011,
          2019,
          2022,
          2021,
          2016,
          2022,
          2018,
          2019,
          2019,
          2018,
          2019,
          2021,
          2022,
          2021,
          2021,
          2022,
          2023,
          2018,
          2023,
          2023,
          2020,
          2019,
          2022,
          2022,
          2018,
          2023,
          2022,
          2023,
          2015,
          2023,
          2022,
          2015,
          2022,
          2019,
          2020,
          2022,
          2018,
          2023,
          2019,
          2023,
          2021,
          2023,
          2023,
          2020,
          2019,
          2017,
          2017,
          2024,
          2019,
          2016,
          2023,
          2022,
          2024,
          2022,
          2020,
          2020,
          2020,
          2020,
          2021,
          2023,
          2012,
          2022,
          2023,
          2015,
          2011,
          2022,
          2019,
          2017,
          2020,
          2018,
          2022,
          2022,
          2018,
          2018,
          2023,
          2023,
          2021,
          2023,
          2017,
          2019,
          2021,
          2019,
          2022,
          2021,
          2013,
          2021,
          2018,
          2019,
          2020,
          2023,
          2023,
          2018,
          2020,
          2021,
          2020,
          2023,
          2022,
          2022,
          2018,
          2013,
          2021,
          2019,
          2019,
          2023,
          2022,
          2021,
          2023,
          2019,
          2012,
          2023,
          2018,
          2023,
          2022,
          2022,
          2017,
          2015,
          2021,
          2019,
          2019,
          2022,
          2022,
          2015,
          2022,
          2022,
          2018,
          2020,
          2019,
          2021,
          2022,
          2022,
          2021,
          2018,
          2023,
          2023,
          2011,
          2022,
          2021,
          2022,
          2023,
          2016,
          2017,
          2016,
          2017,
          2023,
          2022,
          2023,
          2023,
          2021,
          2016,
          2012,
          2023,
          2015,
          2022,
          2019,
          2020,
          2022,
          2019,
          2019,
          2017,
          2018,
          2022,
          2023,
          2019,
          2019,
          2018,
          2022,
          2022,
          2022,
          2014,
          2023,
          2018,
          2017,
          2017,
          2014,
          2023,
          2021,
          2010,
          2022,
          2022,
          2020,
          2020,
          2020,
          2019,
          2020,
          2014,
          2017,
          2019,
          2020,
          2023,
          2019,
          2016,
          2020,
          2022,
          2023,
          2023,
          2019,
          2023,
          2019,
          2022,
          2011,
          2023,
          2022,
          2000,
          2020,
          2012,
          2018,
          2022,
          2014,
          2023,
          2009,
          2022,
          2023,
          2015,
          2013,
          2019,
          2022,
          2020,
          2019,
          2023,
          2018,
          2020,
          2012,
          2013,
          2021,
          2019,
          2021,
          2023,
          2019,
          2021,
          2016,
          2017,
          2021,
          2014,
          2021,
          2021,
          1994,
          2019,
          2022,
          2023,
          2022,
          2022,
          2021,
          2017,
          2022,
          2021,
          2016,
          2017,
          2020,
          2013,
          2019,
          2014,
          2017,
          2015,
          2022,
          2021,
          2019,
          2015,
          2014,
          2022,
          2022,
          2021,
          2019,
          2014,
          2019,
          2023,
          2023,
          2020,
          2022,
          2010,
          2015,
          2013,
          2022,
          2022,
          2020,
          2023,
          2013,
          2021,
          2019,
          2022,
          2019,
          2022,
          2022,
          2021,
          2014,
          2022,
          2021,
          2023,
          2019,
          2002,
          2022,
          2022,
          2013,
          2019,
          2011,
          2023,
          2017,
          2016,
          2015,
          2023,
          2019,
          2023,
          2022,
          2019,
          2008,
          2016,
          2020,
          2022,
          2020,
          2022,
          2021,
          2012,
          2000,
          2023,
          2023,
          2023,
          2022,
          2017,
          2022,
          2016,
          2018,
          2022,
          2023,
          2019,
          2022,
          2017,
          2018,
          2015,
          2023,
          2011,
          2014,
          2018,
          2023,
          2011,
          2019,
          2018,
          2021,
          2022,
          2014,
          2023,
          2020,
          2002,
          2015,
          2017,
          2024,
          2020,
          2023,
          2023,
          2023,
          2018,
          2006,
          2023,
          2022,
          2023,
          2020,
          2021,
          2012,
          2010,
          2023,
          2017,
          2021,
          2021,
          2014,
          2023,
          2018,
          2016,
          2021,
          2012,
          2012,
          2004,
          2019,
          2013,
          2008,
          2019,
          2018,
          2016,
          2023,
          2016,
          2019,
          2005,
          2016,
          2019,
          2023,
          2018,
          2022,
          2020,
          2021,
          2023,
          2015,
          2018,
          2023,
          2022,
          2017,
          2017,
          2013,
          2018,
          2019,
          2019,
          2022,
          2020,
          2017,
          2018,
          2022,
          2020,
          2020,
          2022,
          2023,
          2013,
          2009,
          2015,
          2009,
          2023,
          2019,
          2022,
          2008,
          2015,
          2014,
          2021,
          2019,
          2014,
          2022,
          2022,
          2017,
          1991,
          2011,
          2007,
          2015,
          2022
         ],
         "legendgroup": "",
         "name": "",
         "showlegend": true,
         "type": "pie",
         "values": [
          390470936,
          323703884,
          601309283,
          670665438,
          90676573,
          221636195,
          925655569,
          395433400,
          91272461,
          547882871,
          124893397,
          670376179,
          750154960,
          775135157,
          759998727,
          3071214106,
          214237645,
          1658229422,
          1126820069,
          997702304,
          493627071,
          3909458734,
          4281468720,
          1556275789,
          69729033,
          584427088,
          1873746537,
          891720245,
          1010494713,
          692512930,
          1024381758,
          1500499584,
          1215336974,
          1032225805,
          333202114,
          1692951462,
          851085705,
          1013350808,
          242070373,
          478150858,
          251153869,
          1911559785,
          518988585,
          3006226762,
          787155930,
          532605345,
          818858244,
          659010786,
          438796949,
          1867736006,
          998964097,
          631955547,
          2548389305,
          922010059,
          1754311538,
          630373315,
          474590289,
          689181455,
          827950825,
          1126986320,
          89362910,
          804925777,
          971473231,
          1125681368,
          2042792456,
          2447973078,
          371886608,
          1087938471,
          721002940,
          684204777,
          31612906,
          706356280,
          1181348550,
          205468104,
          1042311849,
          186579651,
          665716137,
          1262308912,
          1062095453,
          503574147,
          1486929795,
          3291262413,
          2089476497,
          777064903,
          682837690,
          347647880,
          1108031580,
          701558859,
          1070422470,
          2218531106,
          598006591,
          775664145,
          547471596,
          462284590,
          1355971796,
          1136504636,
          1528107667,
          647201484,
          785016247,
          1984802459,
          53825007,
          273023490,
          337858357,
          390182196,
          90383224,
          890752779,
          911797058,
          1020452066,
          965865213,
          410722289,
          350584176,
          732652170,
          359416593,
          406319778,
          1668741024,
          626010147,
          1606023895,
          1995511952,
          1321878145,
          1746790923,
          1178076574,
          1885431727,
          1191635193,
          1349427877,
          121234000,
          2306740926,
          77212437,
          1439465700,
          1249760413,
          412845771,
          1151629030,
          318567928,
          1615353665,
          155390490,
          2188247133,
          29994527,
          731933924,
          1829733410,
          1752826514,
          858059276,
          891578597,
          811700245,
          1615152539,
          644437397,
          1318254846,
          907346612,
          912461674,
          1442703001,
          922761340,
          717226454,
          443564590,
          241632869,
          559759920,
          395167576,
          226519256,
          1736530084,
          337650898,
          119798692,
          901486450,
          1128612961,
          725214939,
          469322271,
          1780889877,
          513353284,
          470340261,
          675591495,
          1452194416,
          198043685,
          459712644,
          1943842010,
          355203657,
          1265080733,
          1157206056,
          548724288,
          1228556153,
          363816146,
          1056939084,
          157446814,
          248749251,
          245513981,
          155443055,
          699336080,
          1030515485,
          1592440653,
          1532653504,
          175336290,
          1263989128,
          1369299352,
          279667395,
          193109326,
          66101468,
          593554969,
          368017246,
          444934033,
          1105805922,
          391856304,
          274647899,
          246224964,
          2270796677,
          356685934,
          368256958,
          1747534539,
          436722440,
          253114498,
          711861577,
          1527159800,
          242254880,
          1269760706,
          340227841,
          443093379,
          769061748,
          652559944,
          142512477,
          150073848,
          641756842,
          84655991,
          1456894713,
          759388276,
          456871037,
          995452298,
          582023797,
          721002104,
          2525355904,
          218431985,
          880781313,
          741766886,
          599215039,
          155648648,
          234215735,
          1749353402,
          164137928,
          861100951,
          233139871,
          310562790,
          561645790,
          600073400,
          1110994645,
          547207250,
          392745531,
          1222228366,
          340112388,
          86327319,
          300430813,
          812954133,
          129427492,
          822696809,
          1828026153,
          128024416,
          1291244134,
          225556005,
          144889291,
          218661601,
          1358424406,
          1422563654,
          318018082,
          962546385,
          703865912,
          401066217,
          315014005,
          2097181065,
          347558532,
          242057987,
          1118459427,
          416388749,
          663578551,
          336943720,
          262185115,
          129335327,
          939627795,
          1020435750,
          269669185,
          150463218,
          1599742798,
          572602278,
          654941874,
          777305444,
          107754524,
          581220786,
          1625307365,
          1662288901,
          706158416,
          128855739,
          253540951,
          215466975,
          266560481,
          169074195,
          551115166,
          1232502989,
          111124873,
          1162659862,
          327011836,
          510302007,
          457848626,
          363300065,
          729825680,
          551035247,
          1610423351,
          784096553,
          245406516,
          159051363,
          1145402792,
          975754682,
          1034272727,
          389547230,
          108133711,
          253177498,
          1184571362,
          96289114,
          828103564,
          874864898,
          1362614026,
          815946405,
          81319633,
          477620800,
          1065375074,
          127223430,
          331775657,
          427275743,
          427605317,
          328017675,
          789418331,
          828608384,
          724486951,
          1305189811,
          912294568,
          337709342,
          190497384,
          367775924,
          507652985,
          544564903,
          137020536,
          157881582,
          160163510,
          399778802,
          263851286,
          826685494,
          225128269,
          1365755853,
          71722674,
          304386086,
          2045512421,
          508151972,
          1273869800,
          587673746,
          162356099,
          602316735,
          175095439,
          1477150302,
          52106559,
          36398813,
          1293191157,
          1017438306,
          972593978,
          540382129,
          864865822,
          512194074,
          132870060,
          930662973,
          495274429,
          885944426,
          970858824,
          349603788,
          402007889,
          263986575,
          10292715,
          1225776509,
          115647691,
          1024198691,
          1187784950,
          352258962,
          584277301,
          379462137,
          216354398,
          1810649765,
          935098853,
          133353888,
          137897920,
          293724552,
          172082938,
          438511316,
          1091185920,
          125056212,
          343227483,
          560774282,
          1430439855,
          384886220,
          1327093253,
          306221125,
          1465918510,
          807802864,
          1046848265,
          296674882,
          164804108,
          683247723,
          83366020,
          1197774081,
          178441881,
          152289860,
          194908788,
          547483874,
          1410353130,
          930343185,
          47296342,
          44047842,
          610838644,
          254191262,
          1070923216,
          616445374,
          965827790,
          227893586,
          227893586,
          176140377,
          261468916,
          727417273,
          669099980,
          540907681,
          445742307,
          349688559,
          409394001,
          350348521,
          639900946,
          275465440,
          247386146,
          304069347,
          58652026,
          895496661,
          859999247,
          168710415,
          536110386,
          1256488099,
          589145587,
          1442872605,
          135465283,
          1120187276,
          1299650856,
          1099069598,
          247056218,
          765374782,
          161172707,
          357054107,
          413743535,
          1315577954,
          1351515181,
          503296417,
          185042019,
          199063354,
          120785398,
          389164529,
          839642356,
          1798020679,
          168963270,
          123058600,
          116992202,
          209635991,
          899431434,
          139783785,
          1015965940,
          709560621,
          230129740,
          96105220,
          548333714,
          110545738,
          946043494,
          1015502663,
          693552475,
          41255598,
          924784325,
          934248345,
          374553396,
          86564714,
          474420154,
          439281048,
          707551397,
          142352659,
          283406755,
          1216966135,
          65174919,
          705672746,
          2146682342,
          840781611,
          1188567787,
          49756092,
          401979272,
          157676395,
          106740885,
          173061521,
          981323727,
          1194124781,
          146921991,
          103549505,
          46615691,
          390893607,
          216934691,
          508914869,
          841183589,
          165916276,
          317302250,
          202781631,
          133039977,
          506083686,
          135976140,
          603009543,
          478791369,
          34116353,
          757522352,
          538918222,
          971172980,
          382565051,
          1142061871,
          1062571821,
          296543065,
          242105356,
          516523975,
          117186345,
          818926915,
          177369022,
          954807024,
          957810500,
          224529894,
          75309953,
          633467655,
          541018402,
          664972754,
          259405297,
          68189858,
          169574765,
          433664050,
          49939720,
          122957173,
          537523729,
          365789171,
          413855724,
          466462034,
          117819788,
          215492373,
          260183209,
          433429705,
          473059298,
          597167984,
          64562541,
          254979267,
          505295731,
          307125680,
          118689822,
          948562412,
          687212492,
          624262344,
          836986096,
          121386649,
          885986482,
          129531779,
          968810827,
          493444344,
          728140057,
          87813373,
          557921212,
          501915477,
          59929910,
          89806639,
          365062854,
          2021910364,
          464203349,
          858734232,
          315697428,
          377242486
         ]
        }
       ],
       "layout": {
        "legend": {
         "tracegroupgap": 0
        },
        "template": {
         "data": {
          "bar": [
           {
            "error_x": {
             "color": "#2a3f5f"
            },
            "error_y": {
             "color": "#2a3f5f"
            },
            "marker": {
             "line": {
              "color": "#E5ECF6",
              "width": 0.5
             },
             "pattern": {
              "fillmode": "overlay",
              "size": 10,
              "solidity": 0.2
             }
            },
            "type": "bar"
           }
          ],
          "barpolar": [
           {
            "marker": {
             "line": {
              "color": "#E5ECF6",
              "width": 0.5
             },
             "pattern": {
              "fillmode": "overlay",
              "size": 10,
              "solidity": 0.2
             }
            },
            "type": "barpolar"
           }
          ],
          "carpet": [
           {
            "aaxis": {
             "endlinecolor": "#2a3f5f",
             "gridcolor": "white",
             "linecolor": "white",
             "minorgridcolor": "white",
             "startlinecolor": "#2a3f5f"
            },
            "baxis": {
             "endlinecolor": "#2a3f5f",
             "gridcolor": "white",
             "linecolor": "white",
             "minorgridcolor": "white",
             "startlinecolor": "#2a3f5f"
            },
            "type": "carpet"
           }
          ],
          "choropleth": [
           {
            "colorbar": {
             "outlinewidth": 0,
             "ticks": ""
            },
            "type": "choropleth"
           }
          ],
          "contour": [
           {
            "colorbar": {
             "outlinewidth": 0,
             "ticks": ""
            },
            "colorscale": [
             [
              0,
              "#0d0887"
             ],
             [
              0.1111111111111111,
              "#46039f"
             ],
             [
              0.2222222222222222,
              "#7201a8"
             ],
             [
              0.3333333333333333,
              "#9c179e"
             ],
             [
              0.4444444444444444,
              "#bd3786"
             ],
             [
              0.5555555555555556,
              "#d8576b"
             ],
             [
              0.6666666666666666,
              "#ed7953"
             ],
             [
              0.7777777777777778,
              "#fb9f3a"
             ],
             [
              0.8888888888888888,
              "#fdca26"
             ],
             [
              1,
              "#f0f921"
             ]
            ],
            "type": "contour"
           }
          ],
          "contourcarpet": [
           {
            "colorbar": {
             "outlinewidth": 0,
             "ticks": ""
            },
            "type": "contourcarpet"
           }
          ],
          "heatmap": [
           {
            "colorbar": {
             "outlinewidth": 0,
             "ticks": ""
            },
            "colorscale": [
             [
              0,
              "#0d0887"
             ],
             [
              0.1111111111111111,
              "#46039f"
             ],
             [
              0.2222222222222222,
              "#7201a8"
             ],
             [
              0.3333333333333333,
              "#9c179e"
             ],
             [
              0.4444444444444444,
              "#bd3786"
             ],
             [
              0.5555555555555556,
              "#d8576b"
             ],
             [
              0.6666666666666666,
              "#ed7953"
             ],
             [
              0.7777777777777778,
              "#fb9f3a"
             ],
             [
              0.8888888888888888,
              "#fdca26"
             ],
             [
              1,
              "#f0f921"
             ]
            ],
            "type": "heatmap"
           }
          ],
          "heatmapgl": [
           {
            "colorbar": {
             "outlinewidth": 0,
             "ticks": ""
            },
            "colorscale": [
             [
              0,
              "#0d0887"
             ],
             [
              0.1111111111111111,
              "#46039f"
             ],
             [
              0.2222222222222222,
              "#7201a8"
             ],
             [
              0.3333333333333333,
              "#9c179e"
             ],
             [
              0.4444444444444444,
              "#bd3786"
             ],
             [
              0.5555555555555556,
              "#d8576b"
             ],
             [
              0.6666666666666666,
              "#ed7953"
             ],
             [
              0.7777777777777778,
              "#fb9f3a"
             ],
             [
              0.8888888888888888,
              "#fdca26"
             ],
             [
              1,
              "#f0f921"
             ]
            ],
            "type": "heatmapgl"
           }
          ],
          "histogram": [
           {
            "marker": {
             "pattern": {
              "fillmode": "overlay",
              "size": 10,
              "solidity": 0.2
             }
            },
            "type": "histogram"
           }
          ],
          "histogram2d": [
           {
            "colorbar": {
             "outlinewidth": 0,
             "ticks": ""
            },
            "colorscale": [
             [
              0,
              "#0d0887"
             ],
             [
              0.1111111111111111,
              "#46039f"
             ],
             [
              0.2222222222222222,
              "#7201a8"
             ],
             [
              0.3333333333333333,
              "#9c179e"
             ],
             [
              0.4444444444444444,
              "#bd3786"
             ],
             [
              0.5555555555555556,
              "#d8576b"
             ],
             [
              0.6666666666666666,
              "#ed7953"
             ],
             [
              0.7777777777777778,
              "#fb9f3a"
             ],
             [
              0.8888888888888888,
              "#fdca26"
             ],
             [
              1,
              "#f0f921"
             ]
            ],
            "type": "histogram2d"
           }
          ],
          "histogram2dcontour": [
           {
            "colorbar": {
             "outlinewidth": 0,
             "ticks": ""
            },
            "colorscale": [
             [
              0,
              "#0d0887"
             ],
             [
              0.1111111111111111,
              "#46039f"
             ],
             [
              0.2222222222222222,
              "#7201a8"
             ],
             [
              0.3333333333333333,
              "#9c179e"
             ],
             [
              0.4444444444444444,
              "#bd3786"
             ],
             [
              0.5555555555555556,
              "#d8576b"
             ],
             [
              0.6666666666666666,
              "#ed7953"
             ],
             [
              0.7777777777777778,
              "#fb9f3a"
             ],
             [
              0.8888888888888888,
              "#fdca26"
             ],
             [
              1,
              "#f0f921"
             ]
            ],
            "type": "histogram2dcontour"
           }
          ],
          "mesh3d": [
           {
            "colorbar": {
             "outlinewidth": 0,
             "ticks": ""
            },
            "type": "mesh3d"
           }
          ],
          "parcoords": [
           {
            "line": {
             "colorbar": {
              "outlinewidth": 0,
              "ticks": ""
             }
            },
            "type": "parcoords"
           }
          ],
          "pie": [
           {
            "automargin": true,
            "type": "pie"
           }
          ],
          "scatter": [
           {
            "fillpattern": {
             "fillmode": "overlay",
             "size": 10,
             "solidity": 0.2
            },
            "type": "scatter"
           }
          ],
          "scatter3d": [
           {
            "line": {
             "colorbar": {
              "outlinewidth": 0,
              "ticks": ""
             }
            },
            "marker": {
             "colorbar": {
              "outlinewidth": 0,
              "ticks": ""
             }
            },
            "type": "scatter3d"
           }
          ],
          "scattercarpet": [
           {
            "marker": {
             "colorbar": {
              "outlinewidth": 0,
              "ticks": ""
             }
            },
            "type": "scattercarpet"
           }
          ],
          "scattergeo": [
           {
            "marker": {
             "colorbar": {
              "outlinewidth": 0,
              "ticks": ""
             }
            },
            "type": "scattergeo"
           }
          ],
          "scattergl": [
           {
            "marker": {
             "colorbar": {
              "outlinewidth": 0,
              "ticks": ""
             }
            },
            "type": "scattergl"
           }
          ],
          "scattermapbox": [
           {
            "marker": {
             "colorbar": {
              "outlinewidth": 0,
              "ticks": ""
             }
            },
            "type": "scattermapbox"
           }
          ],
          "scatterpolar": [
           {
            "marker": {
             "colorbar": {
              "outlinewidth": 0,
              "ticks": ""
             }
            },
            "type": "scatterpolar"
           }
          ],
          "scatterpolargl": [
           {
            "marker": {
             "colorbar": {
              "outlinewidth": 0,
              "ticks": ""
             }
            },
            "type": "scatterpolargl"
           }
          ],
          "scatterternary": [
           {
            "marker": {
             "colorbar": {
              "outlinewidth": 0,
              "ticks": ""
             }
            },
            "type": "scatterternary"
           }
          ],
          "surface": [
           {
            "colorbar": {
             "outlinewidth": 0,
             "ticks": ""
            },
            "colorscale": [
             [
              0,
              "#0d0887"
             ],
             [
              0.1111111111111111,
              "#46039f"
             ],
             [
              0.2222222222222222,
              "#7201a8"
             ],
             [
              0.3333333333333333,
              "#9c179e"
             ],
             [
              0.4444444444444444,
              "#bd3786"
             ],
             [
              0.5555555555555556,
              "#d8576b"
             ],
             [
              0.6666666666666666,
              "#ed7953"
             ],
             [
              0.7777777777777778,
              "#fb9f3a"
             ],
             [
              0.8888888888888888,
              "#fdca26"
             ],
             [
              1,
              "#f0f921"
             ]
            ],
            "type": "surface"
           }
          ],
          "table": [
           {
            "cells": {
             "fill": {
              "color": "#EBF0F8"
             },
             "line": {
              "color": "white"
             }
            },
            "header": {
             "fill": {
              "color": "#C8D4E3"
             },
             "line": {
              "color": "white"
             }
            },
            "type": "table"
           }
          ]
         },
         "layout": {
          "annotationdefaults": {
           "arrowcolor": "#2a3f5f",
           "arrowhead": 0,
           "arrowwidth": 1
          },
          "autotypenumbers": "strict",
          "coloraxis": {
           "colorbar": {
            "outlinewidth": 0,
            "ticks": ""
           }
          },
          "colorscale": {
           "diverging": [
            [
             0,
             "#8e0152"
            ],
            [
             0.1,
             "#c51b7d"
            ],
            [
             0.2,
             "#de77ae"
            ],
            [
             0.3,
             "#f1b6da"
            ],
            [
             0.4,
             "#fde0ef"
            ],
            [
             0.5,
             "#f7f7f7"
            ],
            [
             0.6,
             "#e6f5d0"
            ],
            [
             0.7,
             "#b8e186"
            ],
            [
             0.8,
             "#7fbc41"
            ],
            [
             0.9,
             "#4d9221"
            ],
            [
             1,
             "#276419"
            ]
           ],
           "sequential": [
            [
             0,
             "#0d0887"
            ],
            [
             0.1111111111111111,
             "#46039f"
            ],
            [
             0.2222222222222222,
             "#7201a8"
            ],
            [
             0.3333333333333333,
             "#9c179e"
            ],
            [
             0.4444444444444444,
             "#bd3786"
            ],
            [
             0.5555555555555556,
             "#d8576b"
            ],
            [
             0.6666666666666666,
             "#ed7953"
            ],
            [
             0.7777777777777778,
             "#fb9f3a"
            ],
            [
             0.8888888888888888,
             "#fdca26"
            ],
            [
             1,
             "#f0f921"
            ]
           ],
           "sequentialminus": [
            [
             0,
             "#0d0887"
            ],
            [
             0.1111111111111111,
             "#46039f"
            ],
            [
             0.2222222222222222,
             "#7201a8"
            ],
            [
             0.3333333333333333,
             "#9c179e"
            ],
            [
             0.4444444444444444,
             "#bd3786"
            ],
            [
             0.5555555555555556,
             "#d8576b"
            ],
            [
             0.6666666666666666,
             "#ed7953"
            ],
            [
             0.7777777777777778,
             "#fb9f3a"
            ],
            [
             0.8888888888888888,
             "#fdca26"
            ],
            [
             1,
             "#f0f921"
            ]
           ]
          },
          "colorway": [
           "#636efa",
           "#EF553B",
           "#00cc96",
           "#ab63fa",
           "#FFA15A",
           "#19d3f3",
           "#FF6692",
           "#B6E880",
           "#FF97FF",
           "#FECB52"
          ],
          "font": {
           "color": "#2a3f5f"
          },
          "geo": {
           "bgcolor": "white",
           "lakecolor": "white",
           "landcolor": "#E5ECF6",
           "showlakes": true,
           "showland": true,
           "subunitcolor": "white"
          },
          "hoverlabel": {
           "align": "left"
          },
          "hovermode": "closest",
          "mapbox": {
           "style": "light"
          },
          "paper_bgcolor": "white",
          "plot_bgcolor": "#E5ECF6",
          "polar": {
           "angularaxis": {
            "gridcolor": "white",
            "linecolor": "white",
            "ticks": ""
           },
           "bgcolor": "#E5ECF6",
           "radialaxis": {
            "gridcolor": "white",
            "linecolor": "white",
            "ticks": ""
           }
          },
          "scene": {
           "xaxis": {
            "backgroundcolor": "#E5ECF6",
            "gridcolor": "white",
            "gridwidth": 2,
            "linecolor": "white",
            "showbackground": true,
            "ticks": "",
            "zerolinecolor": "white"
           },
           "yaxis": {
            "backgroundcolor": "#E5ECF6",
            "gridcolor": "white",
            "gridwidth": 2,
            "linecolor": "white",
            "showbackground": true,
            "ticks": "",
            "zerolinecolor": "white"
           },
           "zaxis": {
            "backgroundcolor": "#E5ECF6",
            "gridcolor": "white",
            "gridwidth": 2,
            "linecolor": "white",
            "showbackground": true,
            "ticks": "",
            "zerolinecolor": "white"
           }
          },
          "shapedefaults": {
           "line": {
            "color": "#2a3f5f"
           }
          },
          "ternary": {
           "aaxis": {
            "gridcolor": "white",
            "linecolor": "white",
            "ticks": ""
           },
           "baxis": {
            "gridcolor": "white",
            "linecolor": "white",
            "ticks": ""
           },
           "bgcolor": "#E5ECF6",
           "caxis": {
            "gridcolor": "white",
            "linecolor": "white",
            "ticks": ""
           }
          },
          "title": {
           "x": 0.05
          },
          "xaxis": {
           "automargin": true,
           "gridcolor": "white",
           "linecolor": "white",
           "ticks": "",
           "title": {
            "standoff": 15
           },
           "zerolinecolor": "white",
           "zerolinewidth": 2
          },
          "yaxis": {
           "automargin": true,
           "gridcolor": "white",
           "linecolor": "white",
           "ticks": "",
           "title": {
            "standoff": 15
           },
           "zerolinecolor": "white",
           "zerolinewidth": 2
          }
         }
        },
        "title": {
         "text": "Nombres de'écoutes Spotify en 2024 par année de sortie"
        }
       }
      }
     },
     "metadata": {},
     "output_type": "display_data"
    }
   ],
   "source": [
    "# TODO: Afficher un graphique en secteur représentant le nombre d'écoutes Spotify en 2024 par année de sortie.\n",
    "fig_pie = px.pie(\n",
    "    dataframe,\n",
    "    names=\"Release Year\",\n",
    "    values=\"Spotify Streams\",\n",
    "    title=\"Nombres de'écoutes Spotify en 2024 par année de sortie\" \n",
    ")\n",
    "fig_pie.show()\n"
   ]
  },
  {
   "cell_type": "code",
   "execution_count": 54,
   "metadata": {},
   "outputs": [
    {
     "data": {
      "application/vnd.plotly.v1+json": {
       "config": {
        "plotlyServerURL": "https://plot.ly"
       },
       "data": [
        {
         "alignmentgroup": "True",
         "bingroup": "x",
         "hovertemplate": "Explicit Track=0<br>Release Year=%{x}<br>count=%{y}<extra></extra>",
         "legendgroup": "0",
         "marker": {
          "color": "#636efa",
          "pattern": {
           "shape": ""
          }
         },
         "name": "0",
         "offsetgroup": "0",
         "orientation": "v",
         "showlegend": true,
         "type": "histogram",
         "x": [
          2024,
          2024,
          2024,
          2024,
          2024,
          2024,
          2023,
          2023,
          2023,
          2019,
          2024,
          2023,
          2023,
          2023,
          2017,
          2019,
          2022,
          2024,
          2022,
          2022,
          2023,
          2019,
          2023,
          2022,
          2023,
          2024,
          2023,
          2017,
          2023,
          2020,
          2023,
          2023,
          2022,
          2018,
          2022,
          2023,
          2024,
          2023,
          2022,
          2023,
          2022,
          2022,
          2015,
          2023,
          2023,
          2023,
          2022,
          2023,
          2021,
          2021,
          2022,
          2022,
          2023,
          2018,
          2022,
          2018,
          2016,
          2019,
          2020,
          2019,
          2023,
          2024,
          2022,
          2020,
          2019,
          2024,
          2014,
          2011,
          2022,
          2022,
          2018,
          2019,
          2019,
          2021,
          2022,
          2023,
          2018,
          2023,
          2019,
          2022,
          2018,
          2023,
          2022,
          2023,
          2015,
          2023,
          2022,
          2015,
          2022,
          2020,
          2018,
          2023,
          2023,
          2017,
          2017,
          2016,
          2023,
          2024,
          2022,
          2020,
          2012,
          2023,
          2015,
          2011,
          2022,
          2019,
          2017,
          2020,
          2018,
          2023,
          2023,
          2021,
          2023,
          2017,
          2019,
          2019,
          2022,
          2021,
          2013,
          2021,
          2019,
          2020,
          2023,
          2020,
          2021,
          2022,
          2013,
          2019,
          2019,
          2022,
          2023,
          2019,
          2023,
          2023,
          2022,
          2017,
          2015,
          2021,
          2019,
          2022,
          2015,
          2022,
          2019,
          2021,
          2022,
          2021,
          2018,
          2023,
          2023,
          2011,
          2022,
          2021,
          2023,
          2017,
          2016,
          2017,
          2023,
          2023,
          2016,
          2012,
          2015,
          2020,
          2022,
          2018,
          2023,
          2019,
          2018,
          2022,
          2014,
          2018,
          2017,
          2017,
          2014,
          2021,
          2010,
          2022,
          2022,
          2020,
          2019,
          2020,
          2019,
          2019,
          2022,
          2019,
          2023,
          2019,
          2022,
          2011,
          2023,
          2000,
          2020,
          2012,
          2022,
          2014,
          2023,
          2009,
          2022,
          2023,
          2015,
          2013,
          2019,
          2022,
          2020,
          2018,
          2012,
          2013,
          2021,
          2019,
          2021,
          2023,
          2019,
          2021,
          2016,
          2017,
          2021,
          1994,
          2019,
          2023,
          2022,
          2021,
          2017,
          2022,
          2016,
          2017,
          2020,
          2013,
          2014,
          2017,
          2015,
          2022,
          2019,
          2014,
          2022,
          2019,
          2014,
          2019,
          2023,
          2020,
          2010,
          2015,
          2013,
          2022,
          2022,
          2013,
          2021,
          2022,
          2022,
          2021,
          2022,
          2022,
          2013,
          2019,
          2011,
          2016,
          2015,
          2023,
          2019,
          2023,
          2019,
          2008,
          2016,
          2020,
          2022,
          2022,
          2021,
          2012,
          2023,
          2023,
          2023,
          2022,
          2022,
          2022,
          2022,
          2017,
          2018,
          2011,
          2014,
          2023,
          2019,
          2022,
          2014,
          2023,
          2015,
          2017,
          2020,
          2023,
          2018,
          2006,
          2023,
          2023,
          2012,
          2010,
          2023,
          2014,
          2023,
          2018,
          2016,
          2012,
          2004,
          2019,
          2013,
          2008,
          2019,
          2016,
          2023,
          2016,
          2016,
          2023,
          2018,
          2022,
          2020,
          2021,
          2023,
          2018,
          2022,
          2018,
          2019,
          2019,
          2020,
          2017,
          2020,
          2022,
          2009,
          2015,
          2023,
          2019,
          2022,
          2015,
          2014,
          2014,
          2017,
          1991,
          2011,
          2007,
          2015,
          2022
         ],
         "xaxis": "x",
         "yaxis": "y"
        },
        {
         "alignmentgroup": "True",
         "bingroup": "x",
         "hovertemplate": "Explicit Track=1<br>Release Year=%{x}<br>count=%{y}<extra></extra>",
         "legendgroup": "1",
         "marker": {
          "color": "#EF553B",
          "pattern": {
           "shape": ""
          }
         },
         "name": "1",
         "offsetgroup": "1",
         "orientation": "v",
         "showlegend": true,
         "type": "histogram",
         "x": [
          2024,
          2023,
          2024,
          2023,
          2024,
          2023,
          2022,
          2023,
          2023,
          2021,
          2023,
          2023,
          2023,
          2022,
          2023,
          2019,
          2022,
          2023,
          2022,
          2023,
          2020,
          2023,
          2022,
          2018,
          2023,
          2023,
          2022,
          2024,
          2022,
          2022,
          2020,
          2018,
          2022,
          2023,
          2022,
          2016,
          2021,
          2023,
          2018,
          2016,
          2021,
          2022,
          2023,
          2022,
          2019,
          2018,
          2020,
          2023,
          2019,
          2016,
          2020,
          2016,
          2023,
          2023,
          2023,
          2023,
          2020,
          2022,
          2023,
          2021,
          2022,
          2020,
          2021,
          2018,
          2015,
          2020,
          2019,
          2023,
          2018,
          2023,
          2019,
          2019,
          2021,
          2016,
          2019,
          2018,
          2021,
          2021,
          2022,
          2023,
          2020,
          2022,
          2019,
          2022,
          2023,
          2019,
          2023,
          2021,
          2020,
          2019,
          2024,
          2019,
          2022,
          2020,
          2020,
          2020,
          2021,
          2023,
          2022,
          2022,
          2022,
          2018,
          2018,
          2021,
          2018,
          2023,
          2018,
          2020,
          2023,
          2022,
          2018,
          2021,
          2023,
          2021,
          2012,
          2018,
          2022,
          2019,
          2022,
          2022,
          2018,
          2020,
          2022,
          2022,
          2016,
          2023,
          2022,
          2021,
          2023,
          2022,
          2019,
          2019,
          2019,
          2017,
          2022,
          2019,
          2022,
          2022,
          2023,
          2023,
          2020,
          2020,
          2014,
          2017,
          2020,
          2023,
          2016,
          2020,
          2023,
          2023,
          2022,
          2018,
          2019,
          2023,
          2020,
          2021,
          2014,
          2021,
          2022,
          2022,
          2021,
          2019,
          2021,
          2015,
          2022,
          2021,
          2023,
          2022,
          2020,
          2023,
          2019,
          2019,
          2022,
          2021,
          2014,
          2022,
          2023,
          2019,
          2002,
          2023,
          2017,
          2022,
          2020,
          2000,
          2017,
          2016,
          2018,
          2023,
          2019,
          2015,
          2023,
          2018,
          2011,
          2018,
          2021,
          2020,
          2002,
          2024,
          2023,
          2023,
          2022,
          2020,
          2021,
          2017,
          2021,
          2021,
          2021,
          2012,
          2018,
          2019,
          2005,
          2019,
          2015,
          2023,
          2017,
          2017,
          2013,
          2022,
          2018,
          2022,
          2020,
          2023,
          2013,
          2009,
          2008,
          2021,
          2019,
          2022,
          2022
         ],
         "xaxis": "x",
         "yaxis": "y"
        }
       ],
       "layout": {
        "barmode": "relative",
        "legend": {
         "title": {
          "text": "Explicit Track"
         },
         "tracegroupgap": 0
        },
        "template": {
         "data": {
          "bar": [
           {
            "error_x": {
             "color": "#2a3f5f"
            },
            "error_y": {
             "color": "#2a3f5f"
            },
            "marker": {
             "line": {
              "color": "#E5ECF6",
              "width": 0.5
             },
             "pattern": {
              "fillmode": "overlay",
              "size": 10,
              "solidity": 0.2
             }
            },
            "type": "bar"
           }
          ],
          "barpolar": [
           {
            "marker": {
             "line": {
              "color": "#E5ECF6",
              "width": 0.5
             },
             "pattern": {
              "fillmode": "overlay",
              "size": 10,
              "solidity": 0.2
             }
            },
            "type": "barpolar"
           }
          ],
          "carpet": [
           {
            "aaxis": {
             "endlinecolor": "#2a3f5f",
             "gridcolor": "white",
             "linecolor": "white",
             "minorgridcolor": "white",
             "startlinecolor": "#2a3f5f"
            },
            "baxis": {
             "endlinecolor": "#2a3f5f",
             "gridcolor": "white",
             "linecolor": "white",
             "minorgridcolor": "white",
             "startlinecolor": "#2a3f5f"
            },
            "type": "carpet"
           }
          ],
          "choropleth": [
           {
            "colorbar": {
             "outlinewidth": 0,
             "ticks": ""
            },
            "type": "choropleth"
           }
          ],
          "contour": [
           {
            "colorbar": {
             "outlinewidth": 0,
             "ticks": ""
            },
            "colorscale": [
             [
              0,
              "#0d0887"
             ],
             [
              0.1111111111111111,
              "#46039f"
             ],
             [
              0.2222222222222222,
              "#7201a8"
             ],
             [
              0.3333333333333333,
              "#9c179e"
             ],
             [
              0.4444444444444444,
              "#bd3786"
             ],
             [
              0.5555555555555556,
              "#d8576b"
             ],
             [
              0.6666666666666666,
              "#ed7953"
             ],
             [
              0.7777777777777778,
              "#fb9f3a"
             ],
             [
              0.8888888888888888,
              "#fdca26"
             ],
             [
              1,
              "#f0f921"
             ]
            ],
            "type": "contour"
           }
          ],
          "contourcarpet": [
           {
            "colorbar": {
             "outlinewidth": 0,
             "ticks": ""
            },
            "type": "contourcarpet"
           }
          ],
          "heatmap": [
           {
            "colorbar": {
             "outlinewidth": 0,
             "ticks": ""
            },
            "colorscale": [
             [
              0,
              "#0d0887"
             ],
             [
              0.1111111111111111,
              "#46039f"
             ],
             [
              0.2222222222222222,
              "#7201a8"
             ],
             [
              0.3333333333333333,
              "#9c179e"
             ],
             [
              0.4444444444444444,
              "#bd3786"
             ],
             [
              0.5555555555555556,
              "#d8576b"
             ],
             [
              0.6666666666666666,
              "#ed7953"
             ],
             [
              0.7777777777777778,
              "#fb9f3a"
             ],
             [
              0.8888888888888888,
              "#fdca26"
             ],
             [
              1,
              "#f0f921"
             ]
            ],
            "type": "heatmap"
           }
          ],
          "heatmapgl": [
           {
            "colorbar": {
             "outlinewidth": 0,
             "ticks": ""
            },
            "colorscale": [
             [
              0,
              "#0d0887"
             ],
             [
              0.1111111111111111,
              "#46039f"
             ],
             [
              0.2222222222222222,
              "#7201a8"
             ],
             [
              0.3333333333333333,
              "#9c179e"
             ],
             [
              0.4444444444444444,
              "#bd3786"
             ],
             [
              0.5555555555555556,
              "#d8576b"
             ],
             [
              0.6666666666666666,
              "#ed7953"
             ],
             [
              0.7777777777777778,
              "#fb9f3a"
             ],
             [
              0.8888888888888888,
              "#fdca26"
             ],
             [
              1,
              "#f0f921"
             ]
            ],
            "type": "heatmapgl"
           }
          ],
          "histogram": [
           {
            "marker": {
             "pattern": {
              "fillmode": "overlay",
              "size": 10,
              "solidity": 0.2
             }
            },
            "type": "histogram"
           }
          ],
          "histogram2d": [
           {
            "colorbar": {
             "outlinewidth": 0,
             "ticks": ""
            },
            "colorscale": [
             [
              0,
              "#0d0887"
             ],
             [
              0.1111111111111111,
              "#46039f"
             ],
             [
              0.2222222222222222,
              "#7201a8"
             ],
             [
              0.3333333333333333,
              "#9c179e"
             ],
             [
              0.4444444444444444,
              "#bd3786"
             ],
             [
              0.5555555555555556,
              "#d8576b"
             ],
             [
              0.6666666666666666,
              "#ed7953"
             ],
             [
              0.7777777777777778,
              "#fb9f3a"
             ],
             [
              0.8888888888888888,
              "#fdca26"
             ],
             [
              1,
              "#f0f921"
             ]
            ],
            "type": "histogram2d"
           }
          ],
          "histogram2dcontour": [
           {
            "colorbar": {
             "outlinewidth": 0,
             "ticks": ""
            },
            "colorscale": [
             [
              0,
              "#0d0887"
             ],
             [
              0.1111111111111111,
              "#46039f"
             ],
             [
              0.2222222222222222,
              "#7201a8"
             ],
             [
              0.3333333333333333,
              "#9c179e"
             ],
             [
              0.4444444444444444,
              "#bd3786"
             ],
             [
              0.5555555555555556,
              "#d8576b"
             ],
             [
              0.6666666666666666,
              "#ed7953"
             ],
             [
              0.7777777777777778,
              "#fb9f3a"
             ],
             [
              0.8888888888888888,
              "#fdca26"
             ],
             [
              1,
              "#f0f921"
             ]
            ],
            "type": "histogram2dcontour"
           }
          ],
          "mesh3d": [
           {
            "colorbar": {
             "outlinewidth": 0,
             "ticks": ""
            },
            "type": "mesh3d"
           }
          ],
          "parcoords": [
           {
            "line": {
             "colorbar": {
              "outlinewidth": 0,
              "ticks": ""
             }
            },
            "type": "parcoords"
           }
          ],
          "pie": [
           {
            "automargin": true,
            "type": "pie"
           }
          ],
          "scatter": [
           {
            "fillpattern": {
             "fillmode": "overlay",
             "size": 10,
             "solidity": 0.2
            },
            "type": "scatter"
           }
          ],
          "scatter3d": [
           {
            "line": {
             "colorbar": {
              "outlinewidth": 0,
              "ticks": ""
             }
            },
            "marker": {
             "colorbar": {
              "outlinewidth": 0,
              "ticks": ""
             }
            },
            "type": "scatter3d"
           }
          ],
          "scattercarpet": [
           {
            "marker": {
             "colorbar": {
              "outlinewidth": 0,
              "ticks": ""
             }
            },
            "type": "scattercarpet"
           }
          ],
          "scattergeo": [
           {
            "marker": {
             "colorbar": {
              "outlinewidth": 0,
              "ticks": ""
             }
            },
            "type": "scattergeo"
           }
          ],
          "scattergl": [
           {
            "marker": {
             "colorbar": {
              "outlinewidth": 0,
              "ticks": ""
             }
            },
            "type": "scattergl"
           }
          ],
          "scattermapbox": [
           {
            "marker": {
             "colorbar": {
              "outlinewidth": 0,
              "ticks": ""
             }
            },
            "type": "scattermapbox"
           }
          ],
          "scatterpolar": [
           {
            "marker": {
             "colorbar": {
              "outlinewidth": 0,
              "ticks": ""
             }
            },
            "type": "scatterpolar"
           }
          ],
          "scatterpolargl": [
           {
            "marker": {
             "colorbar": {
              "outlinewidth": 0,
              "ticks": ""
             }
            },
            "type": "scatterpolargl"
           }
          ],
          "scatterternary": [
           {
            "marker": {
             "colorbar": {
              "outlinewidth": 0,
              "ticks": ""
             }
            },
            "type": "scatterternary"
           }
          ],
          "surface": [
           {
            "colorbar": {
             "outlinewidth": 0,
             "ticks": ""
            },
            "colorscale": [
             [
              0,
              "#0d0887"
             ],
             [
              0.1111111111111111,
              "#46039f"
             ],
             [
              0.2222222222222222,
              "#7201a8"
             ],
             [
              0.3333333333333333,
              "#9c179e"
             ],
             [
              0.4444444444444444,
              "#bd3786"
             ],
             [
              0.5555555555555556,
              "#d8576b"
             ],
             [
              0.6666666666666666,
              "#ed7953"
             ],
             [
              0.7777777777777778,
              "#fb9f3a"
             ],
             [
              0.8888888888888888,
              "#fdca26"
             ],
             [
              1,
              "#f0f921"
             ]
            ],
            "type": "surface"
           }
          ],
          "table": [
           {
            "cells": {
             "fill": {
              "color": "#EBF0F8"
             },
             "line": {
              "color": "white"
             }
            },
            "header": {
             "fill": {
              "color": "#C8D4E3"
             },
             "line": {
              "color": "white"
             }
            },
            "type": "table"
           }
          ]
         },
         "layout": {
          "annotationdefaults": {
           "arrowcolor": "#2a3f5f",
           "arrowhead": 0,
           "arrowwidth": 1
          },
          "autotypenumbers": "strict",
          "coloraxis": {
           "colorbar": {
            "outlinewidth": 0,
            "ticks": ""
           }
          },
          "colorscale": {
           "diverging": [
            [
             0,
             "#8e0152"
            ],
            [
             0.1,
             "#c51b7d"
            ],
            [
             0.2,
             "#de77ae"
            ],
            [
             0.3,
             "#f1b6da"
            ],
            [
             0.4,
             "#fde0ef"
            ],
            [
             0.5,
             "#f7f7f7"
            ],
            [
             0.6,
             "#e6f5d0"
            ],
            [
             0.7,
             "#b8e186"
            ],
            [
             0.8,
             "#7fbc41"
            ],
            [
             0.9,
             "#4d9221"
            ],
            [
             1,
             "#276419"
            ]
           ],
           "sequential": [
            [
             0,
             "#0d0887"
            ],
            [
             0.1111111111111111,
             "#46039f"
            ],
            [
             0.2222222222222222,
             "#7201a8"
            ],
            [
             0.3333333333333333,
             "#9c179e"
            ],
            [
             0.4444444444444444,
             "#bd3786"
            ],
            [
             0.5555555555555556,
             "#d8576b"
            ],
            [
             0.6666666666666666,
             "#ed7953"
            ],
            [
             0.7777777777777778,
             "#fb9f3a"
            ],
            [
             0.8888888888888888,
             "#fdca26"
            ],
            [
             1,
             "#f0f921"
            ]
           ],
           "sequentialminus": [
            [
             0,
             "#0d0887"
            ],
            [
             0.1111111111111111,
             "#46039f"
            ],
            [
             0.2222222222222222,
             "#7201a8"
            ],
            [
             0.3333333333333333,
             "#9c179e"
            ],
            [
             0.4444444444444444,
             "#bd3786"
            ],
            [
             0.5555555555555556,
             "#d8576b"
            ],
            [
             0.6666666666666666,
             "#ed7953"
            ],
            [
             0.7777777777777778,
             "#fb9f3a"
            ],
            [
             0.8888888888888888,
             "#fdca26"
            ],
            [
             1,
             "#f0f921"
            ]
           ]
          },
          "colorway": [
           "#636efa",
           "#EF553B",
           "#00cc96",
           "#ab63fa",
           "#FFA15A",
           "#19d3f3",
           "#FF6692",
           "#B6E880",
           "#FF97FF",
           "#FECB52"
          ],
          "font": {
           "color": "#2a3f5f"
          },
          "geo": {
           "bgcolor": "white",
           "lakecolor": "white",
           "landcolor": "#E5ECF6",
           "showlakes": true,
           "showland": true,
           "subunitcolor": "white"
          },
          "hoverlabel": {
           "align": "left"
          },
          "hovermode": "closest",
          "mapbox": {
           "style": "light"
          },
          "paper_bgcolor": "white",
          "plot_bgcolor": "#E5ECF6",
          "polar": {
           "angularaxis": {
            "gridcolor": "white",
            "linecolor": "white",
            "ticks": ""
           },
           "bgcolor": "#E5ECF6",
           "radialaxis": {
            "gridcolor": "white",
            "linecolor": "white",
            "ticks": ""
           }
          },
          "scene": {
           "xaxis": {
            "backgroundcolor": "#E5ECF6",
            "gridcolor": "white",
            "gridwidth": 2,
            "linecolor": "white",
            "showbackground": true,
            "ticks": "",
            "zerolinecolor": "white"
           },
           "yaxis": {
            "backgroundcolor": "#E5ECF6",
            "gridcolor": "white",
            "gridwidth": 2,
            "linecolor": "white",
            "showbackground": true,
            "ticks": "",
            "zerolinecolor": "white"
           },
           "zaxis": {
            "backgroundcolor": "#E5ECF6",
            "gridcolor": "white",
            "gridwidth": 2,
            "linecolor": "white",
            "showbackground": true,
            "ticks": "",
            "zerolinecolor": "white"
           }
          },
          "shapedefaults": {
           "line": {
            "color": "#2a3f5f"
           }
          },
          "ternary": {
           "aaxis": {
            "gridcolor": "white",
            "linecolor": "white",
            "ticks": ""
           },
           "baxis": {
            "gridcolor": "white",
            "linecolor": "white",
            "ticks": ""
           },
           "bgcolor": "#E5ECF6",
           "caxis": {
            "gridcolor": "white",
            "linecolor": "white",
            "ticks": ""
           }
          },
          "title": {
           "x": 0.05
          },
          "xaxis": {
           "automargin": true,
           "gridcolor": "white",
           "linecolor": "white",
           "ticks": "",
           "title": {
            "standoff": 15
           },
           "zerolinecolor": "white",
           "zerolinewidth": 2
          },
          "yaxis": {
           "automargin": true,
           "gridcolor": "white",
           "linecolor": "white",
           "ticks": "",
           "title": {
            "standoff": 15
           },
           "zerolinecolor": "white",
           "zerolinewidth": 2
          }
         }
        },
        "title": {
         "text": "Proportion de chason explicite par année de sortie"
        },
        "xaxis": {
         "anchor": "y",
         "domain": [
          0,
          1
         ],
         "title": {
          "text": "Release Year"
         }
        },
        "yaxis": {
         "anchor": "x",
         "domain": [
          0,
          1
         ],
         "title": {
          "text": "count"
         }
        }
       }
      }
     },
     "metadata": {},
     "output_type": "display_data"
    }
   ],
   "source": [
    "# TODO: Afficher un histogramme représentant la proportion de chanson à contenu explicite par année de sortie.\n",
    "fig_histo = px.histogram(dataframe, x= \"Release Year\",color= \"Explicit Track\", title = \"Proportion de chason explicite par année de sortie\")\n",
    "\n",
    "fig_histo.show()\n"
   ]
  },
  {
   "cell_type": "code",
   "execution_count": 55,
   "metadata": {},
   "outputs": [
    {
     "data": {
      "application/vnd.plotly.v1+json": {
       "config": {
        "plotlyServerURL": "https://plot.ly"
       },
       "data": [
        {
         "alignmentgroup": "True",
         "hovertemplate": "Track=%{x}<br>Spotify Streams=%{text}<extra></extra>",
         "legendgroup": "",
         "marker": {
          "color": "#636efa",
          "pattern": {
           "shape": ""
          }
         },
         "name": "",
         "offsetgroup": "",
         "orientation": "v",
         "showlegend": false,
         "text": [
          4281468720,
          3909458734,
          3291262413,
          3071214106,
          3006226762,
          2548389305,
          2525355904,
          2447973078,
          2306740926,
          2270796677
         ],
         "textposition": "auto",
         "type": "bar",
         "x": [
          "Blinding Lights",
          "Shape of You",
          "Starboy",
          "Dance Monkey",
          "Believer",
          "Lucid Dreams",
          "Photograph",
          "Shallow",
          "The Hills",
          "Demons"
         ],
         "xaxis": "x",
         "y": [
          4281468720,
          3909458734,
          3291262413,
          3071214106,
          3006226762,
          2548389305,
          2525355904,
          2447973078,
          2306740926,
          2270796677
         ],
         "yaxis": "y"
        }
       ],
       "layout": {
        "barmode": "relative",
        "legend": {
         "tracegroupgap": 0
        },
        "template": {
         "data": {
          "bar": [
           {
            "error_x": {
             "color": "#2a3f5f"
            },
            "error_y": {
             "color": "#2a3f5f"
            },
            "marker": {
             "line": {
              "color": "#E5ECF6",
              "width": 0.5
             },
             "pattern": {
              "fillmode": "overlay",
              "size": 10,
              "solidity": 0.2
             }
            },
            "type": "bar"
           }
          ],
          "barpolar": [
           {
            "marker": {
             "line": {
              "color": "#E5ECF6",
              "width": 0.5
             },
             "pattern": {
              "fillmode": "overlay",
              "size": 10,
              "solidity": 0.2
             }
            },
            "type": "barpolar"
           }
          ],
          "carpet": [
           {
            "aaxis": {
             "endlinecolor": "#2a3f5f",
             "gridcolor": "white",
             "linecolor": "white",
             "minorgridcolor": "white",
             "startlinecolor": "#2a3f5f"
            },
            "baxis": {
             "endlinecolor": "#2a3f5f",
             "gridcolor": "white",
             "linecolor": "white",
             "minorgridcolor": "white",
             "startlinecolor": "#2a3f5f"
            },
            "type": "carpet"
           }
          ],
          "choropleth": [
           {
            "colorbar": {
             "outlinewidth": 0,
             "ticks": ""
            },
            "type": "choropleth"
           }
          ],
          "contour": [
           {
            "colorbar": {
             "outlinewidth": 0,
             "ticks": ""
            },
            "colorscale": [
             [
              0,
              "#0d0887"
             ],
             [
              0.1111111111111111,
              "#46039f"
             ],
             [
              0.2222222222222222,
              "#7201a8"
             ],
             [
              0.3333333333333333,
              "#9c179e"
             ],
             [
              0.4444444444444444,
              "#bd3786"
             ],
             [
              0.5555555555555556,
              "#d8576b"
             ],
             [
              0.6666666666666666,
              "#ed7953"
             ],
             [
              0.7777777777777778,
              "#fb9f3a"
             ],
             [
              0.8888888888888888,
              "#fdca26"
             ],
             [
              1,
              "#f0f921"
             ]
            ],
            "type": "contour"
           }
          ],
          "contourcarpet": [
           {
            "colorbar": {
             "outlinewidth": 0,
             "ticks": ""
            },
            "type": "contourcarpet"
           }
          ],
          "heatmap": [
           {
            "colorbar": {
             "outlinewidth": 0,
             "ticks": ""
            },
            "colorscale": [
             [
              0,
              "#0d0887"
             ],
             [
              0.1111111111111111,
              "#46039f"
             ],
             [
              0.2222222222222222,
              "#7201a8"
             ],
             [
              0.3333333333333333,
              "#9c179e"
             ],
             [
              0.4444444444444444,
              "#bd3786"
             ],
             [
              0.5555555555555556,
              "#d8576b"
             ],
             [
              0.6666666666666666,
              "#ed7953"
             ],
             [
              0.7777777777777778,
              "#fb9f3a"
             ],
             [
              0.8888888888888888,
              "#fdca26"
             ],
             [
              1,
              "#f0f921"
             ]
            ],
            "type": "heatmap"
           }
          ],
          "heatmapgl": [
           {
            "colorbar": {
             "outlinewidth": 0,
             "ticks": ""
            },
            "colorscale": [
             [
              0,
              "#0d0887"
             ],
             [
              0.1111111111111111,
              "#46039f"
             ],
             [
              0.2222222222222222,
              "#7201a8"
             ],
             [
              0.3333333333333333,
              "#9c179e"
             ],
             [
              0.4444444444444444,
              "#bd3786"
             ],
             [
              0.5555555555555556,
              "#d8576b"
             ],
             [
              0.6666666666666666,
              "#ed7953"
             ],
             [
              0.7777777777777778,
              "#fb9f3a"
             ],
             [
              0.8888888888888888,
              "#fdca26"
             ],
             [
              1,
              "#f0f921"
             ]
            ],
            "type": "heatmapgl"
           }
          ],
          "histogram": [
           {
            "marker": {
             "pattern": {
              "fillmode": "overlay",
              "size": 10,
              "solidity": 0.2
             }
            },
            "type": "histogram"
           }
          ],
          "histogram2d": [
           {
            "colorbar": {
             "outlinewidth": 0,
             "ticks": ""
            },
            "colorscale": [
             [
              0,
              "#0d0887"
             ],
             [
              0.1111111111111111,
              "#46039f"
             ],
             [
              0.2222222222222222,
              "#7201a8"
             ],
             [
              0.3333333333333333,
              "#9c179e"
             ],
             [
              0.4444444444444444,
              "#bd3786"
             ],
             [
              0.5555555555555556,
              "#d8576b"
             ],
             [
              0.6666666666666666,
              "#ed7953"
             ],
             [
              0.7777777777777778,
              "#fb9f3a"
             ],
             [
              0.8888888888888888,
              "#fdca26"
             ],
             [
              1,
              "#f0f921"
             ]
            ],
            "type": "histogram2d"
           }
          ],
          "histogram2dcontour": [
           {
            "colorbar": {
             "outlinewidth": 0,
             "ticks": ""
            },
            "colorscale": [
             [
              0,
              "#0d0887"
             ],
             [
              0.1111111111111111,
              "#46039f"
             ],
             [
              0.2222222222222222,
              "#7201a8"
             ],
             [
              0.3333333333333333,
              "#9c179e"
             ],
             [
              0.4444444444444444,
              "#bd3786"
             ],
             [
              0.5555555555555556,
              "#d8576b"
             ],
             [
              0.6666666666666666,
              "#ed7953"
             ],
             [
              0.7777777777777778,
              "#fb9f3a"
             ],
             [
              0.8888888888888888,
              "#fdca26"
             ],
             [
              1,
              "#f0f921"
             ]
            ],
            "type": "histogram2dcontour"
           }
          ],
          "mesh3d": [
           {
            "colorbar": {
             "outlinewidth": 0,
             "ticks": ""
            },
            "type": "mesh3d"
           }
          ],
          "parcoords": [
           {
            "line": {
             "colorbar": {
              "outlinewidth": 0,
              "ticks": ""
             }
            },
            "type": "parcoords"
           }
          ],
          "pie": [
           {
            "automargin": true,
            "type": "pie"
           }
          ],
          "scatter": [
           {
            "fillpattern": {
             "fillmode": "overlay",
             "size": 10,
             "solidity": 0.2
            },
            "type": "scatter"
           }
          ],
          "scatter3d": [
           {
            "line": {
             "colorbar": {
              "outlinewidth": 0,
              "ticks": ""
             }
            },
            "marker": {
             "colorbar": {
              "outlinewidth": 0,
              "ticks": ""
             }
            },
            "type": "scatter3d"
           }
          ],
          "scattercarpet": [
           {
            "marker": {
             "colorbar": {
              "outlinewidth": 0,
              "ticks": ""
             }
            },
            "type": "scattercarpet"
           }
          ],
          "scattergeo": [
           {
            "marker": {
             "colorbar": {
              "outlinewidth": 0,
              "ticks": ""
             }
            },
            "type": "scattergeo"
           }
          ],
          "scattergl": [
           {
            "marker": {
             "colorbar": {
              "outlinewidth": 0,
              "ticks": ""
             }
            },
            "type": "scattergl"
           }
          ],
          "scattermapbox": [
           {
            "marker": {
             "colorbar": {
              "outlinewidth": 0,
              "ticks": ""
             }
            },
            "type": "scattermapbox"
           }
          ],
          "scatterpolar": [
           {
            "marker": {
             "colorbar": {
              "outlinewidth": 0,
              "ticks": ""
             }
            },
            "type": "scatterpolar"
           }
          ],
          "scatterpolargl": [
           {
            "marker": {
             "colorbar": {
              "outlinewidth": 0,
              "ticks": ""
             }
            },
            "type": "scatterpolargl"
           }
          ],
          "scatterternary": [
           {
            "marker": {
             "colorbar": {
              "outlinewidth": 0,
              "ticks": ""
             }
            },
            "type": "scatterternary"
           }
          ],
          "surface": [
           {
            "colorbar": {
             "outlinewidth": 0,
             "ticks": ""
            },
            "colorscale": [
             [
              0,
              "#0d0887"
             ],
             [
              0.1111111111111111,
              "#46039f"
             ],
             [
              0.2222222222222222,
              "#7201a8"
             ],
             [
              0.3333333333333333,
              "#9c179e"
             ],
             [
              0.4444444444444444,
              "#bd3786"
             ],
             [
              0.5555555555555556,
              "#d8576b"
             ],
             [
              0.6666666666666666,
              "#ed7953"
             ],
             [
              0.7777777777777778,
              "#fb9f3a"
             ],
             [
              0.8888888888888888,
              "#fdca26"
             ],
             [
              1,
              "#f0f921"
             ]
            ],
            "type": "surface"
           }
          ],
          "table": [
           {
            "cells": {
             "fill": {
              "color": "#EBF0F8"
             },
             "line": {
              "color": "white"
             }
            },
            "header": {
             "fill": {
              "color": "#C8D4E3"
             },
             "line": {
              "color": "white"
             }
            },
            "type": "table"
           }
          ]
         },
         "layout": {
          "annotationdefaults": {
           "arrowcolor": "#2a3f5f",
           "arrowhead": 0,
           "arrowwidth": 1
          },
          "autotypenumbers": "strict",
          "coloraxis": {
           "colorbar": {
            "outlinewidth": 0,
            "ticks": ""
           }
          },
          "colorscale": {
           "diverging": [
            [
             0,
             "#8e0152"
            ],
            [
             0.1,
             "#c51b7d"
            ],
            [
             0.2,
             "#de77ae"
            ],
            [
             0.3,
             "#f1b6da"
            ],
            [
             0.4,
             "#fde0ef"
            ],
            [
             0.5,
             "#f7f7f7"
            ],
            [
             0.6,
             "#e6f5d0"
            ],
            [
             0.7,
             "#b8e186"
            ],
            [
             0.8,
             "#7fbc41"
            ],
            [
             0.9,
             "#4d9221"
            ],
            [
             1,
             "#276419"
            ]
           ],
           "sequential": [
            [
             0,
             "#0d0887"
            ],
            [
             0.1111111111111111,
             "#46039f"
            ],
            [
             0.2222222222222222,
             "#7201a8"
            ],
            [
             0.3333333333333333,
             "#9c179e"
            ],
            [
             0.4444444444444444,
             "#bd3786"
            ],
            [
             0.5555555555555556,
             "#d8576b"
            ],
            [
             0.6666666666666666,
             "#ed7953"
            ],
            [
             0.7777777777777778,
             "#fb9f3a"
            ],
            [
             0.8888888888888888,
             "#fdca26"
            ],
            [
             1,
             "#f0f921"
            ]
           ],
           "sequentialminus": [
            [
             0,
             "#0d0887"
            ],
            [
             0.1111111111111111,
             "#46039f"
            ],
            [
             0.2222222222222222,
             "#7201a8"
            ],
            [
             0.3333333333333333,
             "#9c179e"
            ],
            [
             0.4444444444444444,
             "#bd3786"
            ],
            [
             0.5555555555555556,
             "#d8576b"
            ],
            [
             0.6666666666666666,
             "#ed7953"
            ],
            [
             0.7777777777777778,
             "#fb9f3a"
            ],
            [
             0.8888888888888888,
             "#fdca26"
            ],
            [
             1,
             "#f0f921"
            ]
           ]
          },
          "colorway": [
           "#636efa",
           "#EF553B",
           "#00cc96",
           "#ab63fa",
           "#FFA15A",
           "#19d3f3",
           "#FF6692",
           "#B6E880",
           "#FF97FF",
           "#FECB52"
          ],
          "font": {
           "color": "#2a3f5f"
          },
          "geo": {
           "bgcolor": "white",
           "lakecolor": "white",
           "landcolor": "#E5ECF6",
           "showlakes": true,
           "showland": true,
           "subunitcolor": "white"
          },
          "hoverlabel": {
           "align": "left"
          },
          "hovermode": "closest",
          "mapbox": {
           "style": "light"
          },
          "paper_bgcolor": "white",
          "plot_bgcolor": "#E5ECF6",
          "polar": {
           "angularaxis": {
            "gridcolor": "white",
            "linecolor": "white",
            "ticks": ""
           },
           "bgcolor": "#E5ECF6",
           "radialaxis": {
            "gridcolor": "white",
            "linecolor": "white",
            "ticks": ""
           }
          },
          "scene": {
           "xaxis": {
            "backgroundcolor": "#E5ECF6",
            "gridcolor": "white",
            "gridwidth": 2,
            "linecolor": "white",
            "showbackground": true,
            "ticks": "",
            "zerolinecolor": "white"
           },
           "yaxis": {
            "backgroundcolor": "#E5ECF6",
            "gridcolor": "white",
            "gridwidth": 2,
            "linecolor": "white",
            "showbackground": true,
            "ticks": "",
            "zerolinecolor": "white"
           },
           "zaxis": {
            "backgroundcolor": "#E5ECF6",
            "gridcolor": "white",
            "gridwidth": 2,
            "linecolor": "white",
            "showbackground": true,
            "ticks": "",
            "zerolinecolor": "white"
           }
          },
          "shapedefaults": {
           "line": {
            "color": "#2a3f5f"
           }
          },
          "ternary": {
           "aaxis": {
            "gridcolor": "white",
            "linecolor": "white",
            "ticks": ""
           },
           "baxis": {
            "gridcolor": "white",
            "linecolor": "white",
            "ticks": ""
           },
           "bgcolor": "#E5ECF6",
           "caxis": {
            "gridcolor": "white",
            "linecolor": "white",
            "ticks": ""
           }
          },
          "title": {
           "x": 0.05
          },
          "xaxis": {
           "automargin": true,
           "gridcolor": "white",
           "linecolor": "white",
           "ticks": "",
           "title": {
            "standoff": 15
           },
           "zerolinecolor": "white",
           "zerolinewidth": 2
          },
          "yaxis": {
           "automargin": true,
           "gridcolor": "white",
           "linecolor": "white",
           "ticks": "",
           "title": {
            "standoff": 15
           },
           "zerolinecolor": "white",
           "zerolinewidth": 2
          }
         }
        },
        "title": {
         "text": "Top 10 des chansons les plus écoutés sur Spotify en 2024"
        },
        "xaxis": {
         "anchor": "y",
         "domain": [
          0,
          1
         ],
         "tickangle": 30,
         "title": {
          "text": "Track"
         }
        },
        "yaxis": {
         "anchor": "x",
         "domain": [
          0,
          1
         ],
         "title": {
          "text": "Spotify Streams"
         }
        }
       }
      }
     },
     "metadata": {},
     "output_type": "display_data"
    }
   ],
   "source": [
    "# TODO : Afficher un diagramme à barres avec le top 10 des chansons les plus écoutées en 2024.\n",
    "top_10_songs = dataframe.sort_values(by='Spotify Streams', ascending=False).head(10)\n",
    "fig_bar = px.bar(top_10_songs, x=\"Track\", y=\"Spotify Streams\", title= \"Top 10 des chansons les plus écoutés sur Spotify en 2024\", text= \"Spotify Streams\"  )\n",
    "fig_bar.update_layout(xaxis_tickangle = 30)\n",
    "fig_bar.show()\n"
   ]
  },
  {
   "cell_type": "markdown",
   "metadata": {},
   "source": [
    "#### 7. Matrice de corrélation\n",
    "Afin de comprendre la relation entre les différentes colonnes numériques, nous voulons construire une matrice de corrélation. Cette matrice nous permet de mesurer le lien de dépendance entre chaque colonne 1 à 1.\n",
    "\n",
    "Utilisez la méthode `corr()` sur les colonnes numériques du DataFrame pour construire une matrice, et affichez la matrice avec `heatmap()` de Seaborn (accessible via l'objet `sns`)."
   ]
  },
  {
   "cell_type": "code",
   "execution_count": 56,
   "metadata": {},
   "outputs": [
    {
     "data": {
      "text/plain": [
       "<Axes: >"
      ]
     },
     "execution_count": 56,
     "metadata": {},
     "output_type": "execute_result"
    },
    {
     "data": {
      "image/png": "[encoded data removed]",
      "text/plain": [
       "<Figure size 640x480 with 2 Axes>"
      ]
     },
     "metadata": {},
     "output_type": "display_data"
    }
   ],
   "source": [
    "# TODO: Afficher la matrice de corrélation entre les colonnes numériques du jeu de données.\n",
    "numeric = dataframe.select_dtypes(include=['float64', 'int64'])\n",
    "correlation = numeric.corr(method='pearson')\n",
    "sns.heatmap(correlation)"
   ]
  },
  {
   "cell_type": "markdown",
   "metadata": {},
   "source": [
    "#### 8. Entraînement d'un modèle de régression linéaire\n",
    "Nous allons procéder à l'entraînement d'un modèle de regression linéaire pour prédire le nombre d'écoutes d'une chanson sur Spotify.\n",
    "\n",
    "Cela consiste à apprendre d'une relation entre des données d'entrée et des résultats souhaités (ici on parle d'une relation entre toutes les colonnes décrivant une chanson et la colonne \"Spotify Streams\"). \n",
    "\n",
    "On veut diviser nos données en 2 ensembles distincts afin d'utiliser une partie pour que notre modèle apprenne des relations entre les entrées et le résulat, et l'autre partie pour tester la performance de notre modèle."
   ]
  },
  {
   "cell_type": "code",
   "execution_count": 57,
   "metadata": {},
   "outputs": [],
   "source": [
    "\n",
    "# TODO: Compléter data_test et data_train. Séparer le jeu de données de base en 2, \n",
    "#       on utilise la 1ère moitié pour initialiser data_test et l'autre pour data_train.\n",
    "#       Les champs X correspondent aux données d'entrée (toutes les colonnes numériques sauf \"Spotify Streams\").\n",
    "#       Les champs Y correspondent au résultat souhaité (soit la colonne \"Spotify Streams\").\n",
    "\n",
    "data_train = {\"X\": dataframe.drop([\"Track\", \"Spotify Streams\", \"Album Name\", \"Artist\", \"Release Date\"], axis=1)[:283], \"Y\": dataframe[\"Spotify Streams\"][:283]}\n",
    "data_test = {\"X\": dataframe.drop([\"Track\", \"Spotify Streams\", \"Album Name\", \"Artist\", \"Release Date\"], axis=1)[-283:], \"Y\": dataframe[\"Spotify Streams\"][-283:]}      \n",
    "\n"
   ]
  },
  {
   "cell_type": "code",
   "execution_count": 58,
   "metadata": {},
   "outputs": [],
   "source": [
    "regression = linear_model.LinearRegression() # Instanciation du modèle de régression linéaire.\n",
    "# TODO: Entraîner le modèle en appelant la méthode fit() sur la regression,\n",
    "#       et en passant les données entraînements (entrées et résultat attendu) à cette méthode.\n",
    "regression.fit(data_train[\"X\"], data_train[\"Y\"])\n",
    "# TODO: Faire des prédictions de résultat à partir des données d'entrée de test,\n",
    "#       en appelant la méthode predict() sur la regression.\n",
    "#       Mettre les prédictions dans data_test[\"Y_pred\"].\n",
    "data_test[\"Y_pred\"] = regression.predict(data_test[\"X\"])\n",
    "\n"
   ]
  },
  {
   "cell_type": "code",
   "execution_count": 59,
   "metadata": {},
   "outputs": [
    {
     "data": {
      "image/png": "[encoded data removed]",
      "text/plain": [
       "<Figure size 640x480 with 1 Axes>"
      ]
     },
     "metadata": {},
     "output_type": "display_data"
    }
   ],
   "source": [
    "# TODO: Comparer la distribution des données prédites avec celles d'entraînement via un histogramme.\n",
    "data_fr = pd.DataFrame({\"Y\": data_train[\"Y\"], \"Y_pred\": data_test[\"Y_pred\"]})\n",
    "sns.histplot(data_fr, x=\"Y\")\n",
    "sns.histplot(data_fr, x=\"Y_pred\")\n",
    "plt.title(\"Comparaison de la distribution entre les données prédites et les données d'entraînement\")\n",
    "plt.xlabel(\"Nombre d'écoutes Spotify\")\n",
    "plt.ylabel(\"Fréquence\")\n",
    "plt.legend(['Entrainement', 'Prédictions'])\n",
    "plt.show()"
   ]
  }
 ],
 "metadata": {
  "kernelspec": {
   "display_name": "Python 3",
   "language": "python",
   "name": "python3"
  },
  "language_info": {
   "codemirror_mode": {
    "name": "ipython",
    "version": 3
   },
   "file_extension": ".py",
   "mimetype": "text/x-python",
   "name": "python",
   "nbconvert_exporter": "python",
   "pygments_lexer": "ipython3",
   "version": "3.12.5"
  }
 },
 "nbformat": 4,
 "nbformat_minor": 2
}
