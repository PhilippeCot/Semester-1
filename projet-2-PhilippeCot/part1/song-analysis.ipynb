{
 "cells": [
  {
   "cell_type": "markdown",
   "metadata": {},
   "source": [
    "## Partie 1 : Traitement de données\n",
    "Notre objectif est de manipuler et de traiter le jeu de données (contenu dans le fichier `songs.csv`) des chansons les plus écoutées sur Spotify en 2024. Nos traitement serviront ensuite à entraîner un modèle simple de régression linéaire pour la prédiction du nombre total d'écoutes d'une chanson sur Spotify.\n",
    "\n",
    "### Somaire\n",
    "1. [Chargement du jeu de données](#1-chargement-du-jeu-de-données)\n",
    "2. [Exploration des données](#2-exploration-des-données)\n",
    "3. [Nettoyage des données](#3-nettoyage-des-données)\n",
    "4. [Extraction de données](#4-extraction-de-données)\n",
    "5. [Conversion de données](#5-conversion-des-données)\n",
    "6. [Visualisation de données](#6-visualisation-de-données)\n",
    "7. [Matrice de corrélation](#7-matrice-de-corrélation)\n",
    "8. [Entraînement d'un modèle de régression](#8-entraînement-dun-modèle-de-régression-linéaire)"
   ]
  },
  {
   "cell_type": "markdown",
   "metadata": {},
   "source": [
    "#### Installation et importation des librairies\n",
    "Avant de commencer, nous devons lancer la cellule ci-bas afin de s'assurer que nous avons accès aux  librairies nécessaires."
   ]
  },
  {
   "cell_type": "code",
   "execution_count": null,
   "metadata": {},
   "outputs": [],
   "source": [
    "%pip install pandas matplotlib plotly seaborn scikit-learn\n",
    "\n",
    "import math\n",
    "import numpy as np\n",
    "import pandas as pd\n",
    "import matplotlib.pyplot as plt\n",
    "import plotly.express as px\n",
    "import seaborn as sns\n",
    "from sklearn import linear_model"
   ]
  },
  {
   "cell_type": "markdown",
   "metadata": {},
   "source": [
    "#### 1. Chargement du jeu de données\n",
    "Chargez le jeu de données dans un [`DataFrame Pandas`](https://pandas.pydata.org/docs/reference/api/pandas.DataFrame.html#pandas.DataFrame), depuis le fichier CSV `songs.csv`.\n",
    "Utilisez la méthode `read_csv()`."
   ]
  },
  {
   "cell_type": "code",
   "execution_count": 528,
   "metadata": {},
   "outputs": [],
   "source": [
    "# TODO: Charger le jeu de données dans un objet DataFrame."
   ]
  },
  {
   "cell_type": "code",
   "execution_count": 529,
   "metadata": {},
   "outputs": [],
   "source": [
    "# TODO: Afficher les premières lignes du DataFrame pour comprendre la structure des données."
   ]
  },
  {
   "cell_type": "markdown",
   "metadata": {},
   "source": [
    "#### 2. Exploration des données\n",
    "Affichez le nombre d'éléments (lignes) du jeu de données. Et, affichez les types de données de chaque colonne pour vérifier si nous avons besoin d'effectuer d'éventuelles nettoyage ou conversion."
   ]
  },
  {
   "cell_type": "code",
   "execution_count": 530,
   "metadata": {},
   "outputs": [],
   "source": [
    "# TODO: Afficher le nombre d'éléments.\n",
    "\n",
    "# TODO: Afficher les types de données de chaque colonne."
   ]
  },
  {
   "cell_type": "markdown",
   "metadata": {},
   "source": [
    "#### 3. Nettoyage des données\n",
    "Pour procéder au nettoyage de nos données, nous allons :\n",
    "- Supprimer les colonnes inutiles ;\n",
    "- Analyser les valeurs manquantes ;\n",
    "- Gérer les valeurs manquantes.\n",
    "\n",
    "Les méthodes utiles pour cette section sont : `drop()`, `isna()`, `dropna()`."
   ]
  },
  {
   "cell_type": "code",
   "execution_count": 531,
   "metadata": {},
   "outputs": [],
   "source": [
    "# TODO: Utiliser drop() pour supprimer les colonnes \"ISRC\" et \"TIDAL Popularity\"."
   ]
  },
  {
   "cell_type": "code",
   "execution_count": 532,
   "metadata": {},
   "outputs": [],
   "source": [
    "# TODO: Pour chaque colonne, afficher la somme des valeurs manquantes (utiliser isna())."
   ]
  },
  {
   "cell_type": "code",
   "execution_count": 533,
   "metadata": {},
   "outputs": [],
   "source": [
    "# TODO: Supprimer les lignes contenant des valeurs manquantes (utiliser dropna()).\n",
    "\n",
    "# TODO: Afficher la nouvelle dimension du DataFrame."
   ]
  },
  {
   "cell_type": "markdown",
   "metadata": {},
   "source": [
    "#### 4. Extraction de données\n",
    "Nous souhaitons extraire l'année de sortie à partir de la date de sortie, et créer une nouvelle colonne \"Release Year\" basée sur cette donnée. Utilisez `to_datetime()` pour extraire l'année depuis la date et `apply()` pour appliquer l'extraction sur un ensemble de données."
   ]
  },
  {
   "cell_type": "code",
   "execution_count": 534,
   "metadata": {},
   "outputs": [],
   "source": [
    "# TODO: Créer une colonne \"Release Year\" contenant l'année de sortie pour chacune des chansons.\n"
   ]
  },
  {
   "cell_type": "markdown",
   "metadata": {},
   "source": [
    "#### 5. Conversion de données\n",
    "Lors de l'étape d'[exploration de données](#2-exploration-des-données), nous avons remarqué que certaines colonnes sont de type `object` alors qu'elles représentent des données numériques. Nous allons donc convertir ces colonnes en `float` (utilisez `apply()` pour appliquer la conversion sur un ensemble de données).\n",
    "\n",
    "Omettre de la conversion les colonnes : \"Track\", \"Album Name\", \"Artist\", \"Release Date\"."
   ]
  },
  {
   "cell_type": "code",
   "execution_count": 535,
   "metadata": {},
   "outputs": [],
   "source": [
    "# TODO: Afficher les colonnes à convertir en 'float'.\n",
    "\n",
    "# TODO: Convertir les données des colonnes en 'float'."
   ]
  },
  {
   "cell_type": "code",
   "execution_count": 536,
   "metadata": {},
   "outputs": [],
   "source": [
    "# TODO: Afficher les types de données de chaque colonne."
   ]
  },
  {
   "cell_type": "markdown",
   "metadata": {},
   "source": [
    "#### 6. Visualisation de données\n",
    "Nous aimerions visualiser nos données via :\n",
    "- un graphique en secteur avec la proportion du nombre d'écoutes Spotify en 2024 par année de sortie ;\n",
    "- un histogramme avec la proportion de chanson à contenu explicite par année de sortie ;\n",
    "- un diagramme à barres avec le top 10 des chansons les plus écoutées sur Spotify en 2024.\n",
    "\n",
    "Pour cela, utilisez les méthodes `pie()`, `histogram()` et `bar()` de Plotly Express (accessible via l'objet `px`)."
   ]
  },
  {
   "cell_type": "code",
   "execution_count": 537,
   "metadata": {},
   "outputs": [],
   "source": [
    "# TODO: Afficher un DataFrame contenant seulement les colonnes \"Release Year\", \"Spotify Streams\"."
   ]
  },
  {
   "cell_type": "code",
   "execution_count": 538,
   "metadata": {},
   "outputs": [],
   "source": [
    "# TODO: Afficher un graphique en secteur représentant le nombre d'écoutes Spotify en 2024 par année de sortie."
   ]
  },
  {
   "cell_type": "code",
   "execution_count": 539,
   "metadata": {},
   "outputs": [],
   "source": [
    "# TODO: Afficher un histogramme représentant la proportion de chanson à contenu explicite par année de sortie."
   ]
  },
  {
   "cell_type": "code",
   "execution_count": 540,
   "metadata": {},
   "outputs": [],
   "source": [
    "# TODO : Afficher un diagramme à barres avec le top 10 des chansons les plus écoutées en 2024."
   ]
  },
  {
   "cell_type": "markdown",
   "metadata": {},
   "source": [
    "#### 7. Matrice de corrélation\n",
    "Afin de comprendre la relation entre les différentes colonnes numériques, nous voulons construire une matrice de corrélation. Cette matrice nous permet de mesurer le lien de dépendance entre chaque colonne 1 à 1.\n",
    "\n",
    "Utilisez la méthode `corr()` sur les colonnes numériques du DataFrame pour construire une matrice, et affichez la matrice avec `heatmap()` de Seaborn (accessible via l'objet `sns`)."
   ]
  },
  {
   "cell_type": "code",
   "execution_count": 541,
   "metadata": {},
   "outputs": [],
   "source": [
    "# TODO: Afficher la matrice de corrélation entre les colonnes numériques du jeu de données."
   ]
  },
  {
   "cell_type": "markdown",
   "metadata": {},
   "source": [
    "#### 8. Entraînement d'un modèle de régression linéaire\n",
    "Nous allons procéder à l'entraînement d'un modèle de regression linéaire pour prédire le nombre d'écoutes d'une chanson sur Spotify.\n",
    "\n",
    "Cela consiste à apprendre d'une relation entre des données d'entrée et des résultats souhaités (ici on parle d'une relation entre toutes les colonnes décrivant une chanson et la colonne \"Spotify Streams\"). \n",
    "\n",
    "On veut diviser nos données en 2 ensembles distincts afin d'utiliser une partie pour que notre modèle apprenne des relations entre les entrées et le résulat, et l'autre partie pour tester la performance de notre modèle."
   ]
  },
  {
   "cell_type": "code",
   "execution_count": 542,
   "metadata": {},
   "outputs": [],
   "source": [
    "\n",
    "# TODO: Compléter data_test et data_train. Séparer le jeu de données de base en 2, \n",
    "#       on utilise la 1ère moitié pour initialiser data_test et l'autre pour data_train.\n",
    "#       Les champs X correspondent aux données d'entrée (toutes les colonnes numériques sauf \"Spotify Streams\").\n",
    "#       Les champs Y correspondent au résultat souhaité (soit la colonne \"Spotify Streams\").\n",
    "\n",
    "data_test = {\"X\": None, \"Y\": None}\n",
    "data_train = {\"X\": None, \"Y\": None}"
   ]
  },
  {
   "cell_type": "code",
   "execution_count": 543,
   "metadata": {},
   "outputs": [],
   "source": [
    "regression = linear_model.LinearRegression() # Instanciation du modèle de régression linéaire.\n",
    "# TODO: Entraîner le modèle en appelant la méthode fit() sur la regression,\n",
    "#       et en passant les données entraînements (entrées et résultat attendu) à cette méthode.\n",
    "\n",
    "# TODO: Faire des prédictions de résultat à partir des données d'entrée de test,\n",
    "#       en appelant la méthode predict() sur la regression.\n",
    "#       Mettre les prédictions dans data_test[\"Y_pred\"].\n"
   ]
  },
  {
   "cell_type": "code",
   "execution_count": 544,
   "metadata": {},
   "outputs": [],
   "source": [
    "# TODO: Comparer la distribution des données prédites avec celles d'entraînement via un histogramme."
   ]
  }
 ],
 "metadata": {
  "kernelspec": {
   "display_name": "Python 3",
   "language": "python",
   "name": "python3"
  },
  "language_info": {
   "codemirror_mode": {
    "name": "ipython",
    "version": 3
   },
   "file_extension": ".py",
   "mimetype": "text/x-python",
   "name": "python",
   "nbconvert_exporter": "python",
   "pygments_lexer": "ipython3",
   "version": "3.12.7"
  }
 },
 "nbformat": 4,
 "nbformat_minor": 2
}
